{
  "nbformat": 4,
  "nbformat_minor": 0,
  "metadata": {
    "kernelspec": {
      "display_name": "Python 3",
      "language": "python",
      "name": "python3"
    },
    "language_info": {
      "codemirror_mode": {
        "name": "ipython",
        "version": 3
      },
      "file_extension": ".py",
      "mimetype": "text/x-python",
      "name": "python",
      "nbconvert_exporter": "python",
      "pygments_lexer": "ipython3",
      "version": "3.7.3"
    },
    "colab": {
      "name": "Unit 4 Challenge - Tier 3.ipynb",
      "provenance": [],
      "collapsed_sections": []
    }
  },
  "cells": [
    {
      "cell_type": "markdown",
      "metadata": {
        "id": "Tia3MP1SJpgj",
        "colab_type": "text"
      },
      "source": [
        "# Springboard Data Science Career Track Unit 4 Challenge - Tier 3 Complete\n",
        "\n",
        "## Objectives\n",
        "Hey! Great job getting through those challenging DataCamp courses. You're learning a lot in a short span of time. \n",
        "\n",
        "In this notebook, you're going to apply the skills you've been learning, bridging the gap between the controlled environment of DataCamp and the *slightly* messier work that data scientists do with actual datasets!\n",
        "\n",
        "Here’s the mystery we’re going to solve: ***which boroughs of London have seen the greatest increase in housing prices, on average, over the last two decades?***\n",
        "\n",
        "\n",
        "A borough is just a fancy word for district. You may be familiar with the five boroughs of New York… well, there are 32 boroughs within Greater London [(here's some info for the curious)](https://en.wikipedia.org/wiki/London_boroughs). Some of them are more desirable areas to live in, and the data will reflect that with a greater rise in housing prices.\n",
        "\n",
        "***This is the Tier 3 notebook, which means it's not filled in at all: we'll just give you the skeleton of a project, the brief and the data. It's up to you to play around with it and see what you can find out! Good luck! If you struggle, feel free to look at easier tiers for help; but try to dip in and out of them, as the more independent work you do, the better it is for your learning!***\n",
        "\n",
        "This challenge will make use of only what you learned in the following DataCamp courses: \n",
        "- Prework courses (Introduction to Python for Data Science, Intermediate Python for Data Science)\n",
        "- Data Types for Data Science\n",
        "- Python Data Science Toolbox (Part One) \n",
        "- pandas Foundations\n",
        "- Manipulating DataFrames with pandas\n",
        "- Merging DataFrames with pandas\n",
        "\n",
        "Of the tools, techniques and concepts in the above DataCamp courses, this challenge should require the application of the following: \n",
        "- **pandas**\n",
        "    - **data ingestion and inspection** (pandas Foundations, Module One) \n",
        "    - **exploratory data analysis** (pandas Foundations, Module Two)\n",
        "    - **tidying and cleaning** (Manipulating DataFrames with pandas, Module Three) \n",
        "    - **transforming DataFrames** (Manipulating DataFrames with pandas, Module One)\n",
        "    - **subsetting DataFrames with lists** (Manipulating DataFrames with pandas, Module One) \n",
        "    - **filtering DataFrames** (Manipulating DataFrames with pandas, Module One) \n",
        "    - **grouping data** (Manipulating DataFrames with pandas, Module Four) \n",
        "    - **melting data** (Manipulating DataFrames with pandas, Module Three) \n",
        "    - **advanced indexing** (Manipulating DataFrames with pandas, Module Four) \n",
        "- **matplotlib** (Intermediate Python for Data Science, Module One)\n",
        "- **fundamental data types** (Data Types for Data Science, Module One) \n",
        "- **dictionaries** (Intermediate Python for Data Science, Module Two)\n",
        "- **handling dates and times** (Data Types for Data Science, Module Four)\n",
        "- **function definition** (Python Data Science Toolbox - Part One, Module One)\n",
        "- **default arguments, variable length, and scope** (Python Data Science Toolbox - Part One, Module Two) \n",
        "- **lambda functions and error handling** (Python Data Science Toolbox - Part One, Module Four) "
      ]
    },
    {
      "cell_type": "markdown",
      "metadata": {
        "id": "Ipgd2nV8Jpgl",
        "colab_type": "text"
      },
      "source": [
        "## The Data Science Pipeline\n",
        "\n",
        "This is Tier Three, so we'll get you started. But after that, it's all in your hands! When you feel done with your investigations, look back over what you've accomplished, and prepare a quick presentation of your findings for the next mentor meeting. \n",
        "\n",
        "Data Science is magical. In this case study, you'll get to apply some complex machine learning algorithms. But as  [David Spiegelhalter](https://www.youtube.com/watch?v=oUs1uvsz0Ok) reminds us, there is no substitute for simply **taking a really, really good look at the data.** Sometimes, this is all we need to answer our question.\n",
        "\n",
        "Data Science projects generally adhere to the four stages of Data Science Pipeline:\n",
        "1. Sourcing and loading \n",
        "2. Cleaning, transforming, and visualizing \n",
        "3. Modeling \n",
        "4. Evaluating and concluding \n"
      ]
    },
    {
      "cell_type": "markdown",
      "metadata": {
        "id": "zswDqbefJpgm",
        "colab_type": "text"
      },
      "source": [
        "### 1. Sourcing and Loading \n",
        "\n",
        "Any Data Science project kicks off by importing  ***pandas***. The documentation of this wonderful library can be found [here](https://pandas.pydata.org/). As you've seen, pandas is conveniently connected to the [Numpy](http://www.numpy.org/) and [Matplotlib](https://matplotlib.org/) libraries. \n",
        "\n",
        "***Hint:*** This part of the data science pipeline will test those skills you acquired in the pandas Foundations course, Module One. "
      ]
    },
    {
      "cell_type": "markdown",
      "metadata": {
        "id": "aEau5nEvJpgm",
        "colab_type": "text"
      },
      "source": [
        "#### 1.1. Importing Libraries"
      ]
    },
    {
      "cell_type": "code",
      "metadata": {
        "id": "7Bt_Q_oPJpgn",
        "colab_type": "code",
        "colab": {}
      },
      "source": [
        "# Let's import the pandas, numpy libraries as pd, and np respectively. \n",
        "import numpy as np\n",
        "import pandas as pd\n",
        "# Load the pyplot collection of functions from matplotlib, as plt \n",
        "import matplotlib.pyplot as plt"
      ],
      "execution_count": 1,
      "outputs": []
    },
    {
      "cell_type": "markdown",
      "metadata": {
        "id": "koUrawxsJpgq",
        "colab_type": "text"
      },
      "source": [
        "#### 1.2.  Loading the data\n",
        "Your data comes from the [London Datastore](https://data.london.gov.uk/): a free, open-source data-sharing portal for London-oriented datasets. "
      ]
    },
    {
      "cell_type": "code",
      "metadata": {
        "id": "AiLiD4v3Jpgr",
        "colab_type": "code",
        "colab": {}
      },
      "source": [
        "# First, make a variable called url_LondonHousePrices, and assign it the following link, enclosed in quotation-marks as a string:\n",
        "# https://data.london.gov.uk/download/uk-house-price-index/70ac0766-8902-4eb5-aab5-01951aaed773/UK%20House%20price%20index.xls\n",
        "\n",
        "url_LondonHousePrices = \"https://data.london.gov.uk/download/uk-house-price-index/70ac0766-8902-4eb5-aab5-01951aaed773/UK%20House%20price%20index.xls\"\n",
        "\n",
        "# The dataset we're interested in contains the Average prices of the houses, and is actually on a particular sheet of the Excel file. \n",
        "# As a result, we need to specify the sheet name in the read_excel() method.\n",
        "# Put this data into a variable called properties.  \n",
        "properties = pd.read_excel(url_LondonHousePrices, sheet_name='Average price', index_col= None)"
      ],
      "execution_count": 2,
      "outputs": []
    },
    {
      "cell_type": "markdown",
      "metadata": {
        "id": "POukEJXgJpgu",
        "colab_type": "text"
      },
      "source": [
        "### 2. Cleaning, transforming, and visualizing\n",
        "This second stage is arguably the most important part of any Data Science project. The first thing to do is take a proper look at the data. Cleaning forms the majority of this stage, and can be done both before or after Transformation.\n",
        "\n",
        "The end goal of data cleaning is to have tidy data. When data is tidy: \n",
        "\n",
        "1. Each variable has a column.\n",
        "2. Each observation forms a row.\n",
        "\n",
        "Keep the end goal in mind as you move through this process, every step will take you closer. \n",
        "\n",
        "\n",
        "\n",
        "***Hint:*** This part of the data science pipeline should test those skills you acquired in: \n",
        "- Intermediate Python for data science, all modules.\n",
        "- pandas Foundations, all modules. \n",
        "- Manipulating DataFrames with pandas, all modules.\n",
        "- Data Types for Data Science, Module Four.\n",
        "- Python Data Science Toolbox - Part One, all modules"
      ]
    },
    {
      "cell_type": "markdown",
      "metadata": {
        "id": "Te0Q548tnzZa",
        "colab_type": "text"
      },
      "source": [
        "**2.1. Exploring your data** \n",
        "\n",
        "Think about your pandas functions for checking out a dataframe. "
      ]
    },
    {
      "cell_type": "code",
      "metadata": {
        "id": "Rxirxw_qoAJa",
        "colab_type": "code",
        "colab": {
          "base_uri": "https://localhost:8080/",
          "height": 316
        },
        "outputId": "357db9fe-8271-430c-8307-71b48e222c9b"
      },
      "source": [
        "properties.head()"
      ],
      "execution_count": 3,
      "outputs": [
        {
          "output_type": "execute_result",
          "data": {
            "text/html": [
              "<div>\n",
              "<style scoped>\n",
              "    .dataframe tbody tr th:only-of-type {\n",
              "        vertical-align: middle;\n",
              "    }\n",
              "\n",
              "    .dataframe tbody tr th {\n",
              "        vertical-align: top;\n",
              "    }\n",
              "\n",
              "    .dataframe thead th {\n",
              "        text-align: right;\n",
              "    }\n",
              "</style>\n",
              "<table border=\"1\" class=\"dataframe\">\n",
              "  <thead>\n",
              "    <tr style=\"text-align: right;\">\n",
              "      <th></th>\n",
              "      <th>Unnamed: 0</th>\n",
              "      <th>City of London</th>\n",
              "      <th>Barking &amp; Dagenham</th>\n",
              "      <th>Barnet</th>\n",
              "      <th>Bexley</th>\n",
              "      <th>Brent</th>\n",
              "      <th>Bromley</th>\n",
              "      <th>Camden</th>\n",
              "      <th>Croydon</th>\n",
              "      <th>Ealing</th>\n",
              "      <th>Enfield</th>\n",
              "      <th>Greenwich</th>\n",
              "      <th>Hackney</th>\n",
              "      <th>Hammersmith &amp; Fulham</th>\n",
              "      <th>Haringey</th>\n",
              "      <th>Harrow</th>\n",
              "      <th>Havering</th>\n",
              "      <th>Hillingdon</th>\n",
              "      <th>Hounslow</th>\n",
              "      <th>Islington</th>\n",
              "      <th>Kensington &amp; Chelsea</th>\n",
              "      <th>Kingston upon Thames</th>\n",
              "      <th>Lambeth</th>\n",
              "      <th>Lewisham</th>\n",
              "      <th>Merton</th>\n",
              "      <th>Newham</th>\n",
              "      <th>Redbridge</th>\n",
              "      <th>Richmond upon Thames</th>\n",
              "      <th>Southwark</th>\n",
              "      <th>Sutton</th>\n",
              "      <th>Tower Hamlets</th>\n",
              "      <th>Waltham Forest</th>\n",
              "      <th>Wandsworth</th>\n",
              "      <th>Westminster</th>\n",
              "      <th>Unnamed: 34</th>\n",
              "      <th>Inner London</th>\n",
              "      <th>Outer London</th>\n",
              "      <th>Unnamed: 37</th>\n",
              "      <th>NORTH EAST</th>\n",
              "      <th>NORTH WEST</th>\n",
              "      <th>YORKS &amp; THE HUMBER</th>\n",
              "      <th>EAST MIDLANDS</th>\n",
              "      <th>WEST MIDLANDS</th>\n",
              "      <th>EAST OF ENGLAND</th>\n",
              "      <th>LONDON</th>\n",
              "      <th>SOUTH EAST</th>\n",
              "      <th>SOUTH WEST</th>\n",
              "      <th>Unnamed: 47</th>\n",
              "      <th>England</th>\n",
              "    </tr>\n",
              "  </thead>\n",
              "  <tbody>\n",
              "    <tr>\n",
              "      <th>0</th>\n",
              "      <td>NaT</td>\n",
              "      <td>E09000001</td>\n",
              "      <td>E09000002</td>\n",
              "      <td>E09000003</td>\n",
              "      <td>E09000004</td>\n",
              "      <td>E09000005</td>\n",
              "      <td>E09000006</td>\n",
              "      <td>E09000007</td>\n",
              "      <td>E09000008</td>\n",
              "      <td>E09000009</td>\n",
              "      <td>E09000010</td>\n",
              "      <td>E09000011</td>\n",
              "      <td>E09000012</td>\n",
              "      <td>E09000013</td>\n",
              "      <td>E09000014</td>\n",
              "      <td>E09000015</td>\n",
              "      <td>E09000016</td>\n",
              "      <td>E09000017</td>\n",
              "      <td>E09000018</td>\n",
              "      <td>E09000019</td>\n",
              "      <td>E09000020</td>\n",
              "      <td>E09000021</td>\n",
              "      <td>E09000022</td>\n",
              "      <td>E09000023</td>\n",
              "      <td>E09000024</td>\n",
              "      <td>E09000025</td>\n",
              "      <td>E09000026</td>\n",
              "      <td>E09000027</td>\n",
              "      <td>E09000028</td>\n",
              "      <td>E09000029</td>\n",
              "      <td>E09000030</td>\n",
              "      <td>E09000031</td>\n",
              "      <td>E09000032</td>\n",
              "      <td>E09000033</td>\n",
              "      <td>NaN</td>\n",
              "      <td>E13000001</td>\n",
              "      <td>E13000002</td>\n",
              "      <td>NaN</td>\n",
              "      <td>E12000001</td>\n",
              "      <td>E12000002</td>\n",
              "      <td>E12000003</td>\n",
              "      <td>E12000004</td>\n",
              "      <td>E12000005</td>\n",
              "      <td>E12000006</td>\n",
              "      <td>E12000007</td>\n",
              "      <td>E12000008</td>\n",
              "      <td>E12000009</td>\n",
              "      <td>NaN</td>\n",
              "      <td>E92000001</td>\n",
              "    </tr>\n",
              "    <tr>\n",
              "      <th>1</th>\n",
              "      <td>1995-01-01</td>\n",
              "      <td>91449</td>\n",
              "      <td>50460.2</td>\n",
              "      <td>93284.5</td>\n",
              "      <td>64958.1</td>\n",
              "      <td>71306.6</td>\n",
              "      <td>81671.5</td>\n",
              "      <td>120933</td>\n",
              "      <td>69158.2</td>\n",
              "      <td>79885.9</td>\n",
              "      <td>72514.7</td>\n",
              "      <td>62300.1</td>\n",
              "      <td>61296.5</td>\n",
              "      <td>124903</td>\n",
              "      <td>76287.6</td>\n",
              "      <td>84769.5</td>\n",
              "      <td>68000.1</td>\n",
              "      <td>73834.8</td>\n",
              "      <td>72231.7</td>\n",
              "      <td>92516.5</td>\n",
              "      <td>182695</td>\n",
              "      <td>80875.8</td>\n",
              "      <td>67771</td>\n",
              "      <td>60491.3</td>\n",
              "      <td>82070.6</td>\n",
              "      <td>53539.3</td>\n",
              "      <td>72189.6</td>\n",
              "      <td>109326</td>\n",
              "      <td>67885.2</td>\n",
              "      <td>71537</td>\n",
              "      <td>59865.2</td>\n",
              "      <td>61319.4</td>\n",
              "      <td>88559</td>\n",
              "      <td>133025</td>\n",
              "      <td>NaN</td>\n",
              "      <td>78252</td>\n",
              "      <td>72958.8</td>\n",
              "      <td>NaN</td>\n",
              "      <td>42076.4</td>\n",
              "      <td>43958.5</td>\n",
              "      <td>44803.4</td>\n",
              "      <td>45544.5</td>\n",
              "      <td>48527.5</td>\n",
              "      <td>56701.6</td>\n",
              "      <td>74435.8</td>\n",
              "      <td>64018.9</td>\n",
              "      <td>54705.2</td>\n",
              "      <td>NaN</td>\n",
              "      <td>53202.8</td>\n",
              "    </tr>\n",
              "    <tr>\n",
              "      <th>2</th>\n",
              "      <td>1995-02-01</td>\n",
              "      <td>82202.8</td>\n",
              "      <td>51085.8</td>\n",
              "      <td>93190.2</td>\n",
              "      <td>64787.9</td>\n",
              "      <td>72022.3</td>\n",
              "      <td>81657.6</td>\n",
              "      <td>119509</td>\n",
              "      <td>68951.1</td>\n",
              "      <td>80897.1</td>\n",
              "      <td>73155.2</td>\n",
              "      <td>60993.3</td>\n",
              "      <td>63187.1</td>\n",
              "      <td>122088</td>\n",
              "      <td>78901.2</td>\n",
              "      <td>83396.1</td>\n",
              "      <td>69393.5</td>\n",
              "      <td>75031.1</td>\n",
              "      <td>71051.6</td>\n",
              "      <td>94342.4</td>\n",
              "      <td>182345</td>\n",
              "      <td>81230.1</td>\n",
              "      <td>65381.5</td>\n",
              "      <td>60869.3</td>\n",
              "      <td>79982.7</td>\n",
              "      <td>53153.9</td>\n",
              "      <td>72141.6</td>\n",
              "      <td>111103</td>\n",
              "      <td>64799.1</td>\n",
              "      <td>70893.2</td>\n",
              "      <td>62318.5</td>\n",
              "      <td>60252.1</td>\n",
              "      <td>88641</td>\n",
              "      <td>131468</td>\n",
              "      <td>NaN</td>\n",
              "      <td>75885.7</td>\n",
              "      <td>72937.9</td>\n",
              "      <td>NaN</td>\n",
              "      <td>42572</td>\n",
              "      <td>43925.4</td>\n",
              "      <td>44528.8</td>\n",
              "      <td>46051.6</td>\n",
              "      <td>49341.3</td>\n",
              "      <td>56593.6</td>\n",
              "      <td>72777.9</td>\n",
              "      <td>63715</td>\n",
              "      <td>54356.1</td>\n",
              "      <td>NaN</td>\n",
              "      <td>53096.2</td>\n",
              "    </tr>\n",
              "    <tr>\n",
              "      <th>3</th>\n",
              "      <td>1995-03-01</td>\n",
              "      <td>79120.7</td>\n",
              "      <td>51269</td>\n",
              "      <td>92247.5</td>\n",
              "      <td>64367.5</td>\n",
              "      <td>72015.8</td>\n",
              "      <td>81449.3</td>\n",
              "      <td>120282</td>\n",
              "      <td>68712.4</td>\n",
              "      <td>81379.9</td>\n",
              "      <td>72190.4</td>\n",
              "      <td>61377.8</td>\n",
              "      <td>63593.3</td>\n",
              "      <td>120636</td>\n",
              "      <td>78521.9</td>\n",
              "      <td>83416.2</td>\n",
              "      <td>69368</td>\n",
              "      <td>74188.7</td>\n",
              "      <td>72098</td>\n",
              "      <td>93465.9</td>\n",
              "      <td>182879</td>\n",
              "      <td>81111.5</td>\n",
              "      <td>66336.5</td>\n",
              "      <td>60288</td>\n",
              "      <td>80661.7</td>\n",
              "      <td>53458.3</td>\n",
              "      <td>72501.4</td>\n",
              "      <td>107325</td>\n",
              "      <td>65763.3</td>\n",
              "      <td>70306.8</td>\n",
              "      <td>63938.7</td>\n",
              "      <td>60871.1</td>\n",
              "      <td>87124.8</td>\n",
              "      <td>132260</td>\n",
              "      <td>NaN</td>\n",
              "      <td>76591.6</td>\n",
              "      <td>72714.5</td>\n",
              "      <td>NaN</td>\n",
              "      <td>42369.7</td>\n",
              "      <td>44434.9</td>\n",
              "      <td>45200.5</td>\n",
              "      <td>45383.8</td>\n",
              "      <td>49442.2</td>\n",
              "      <td>56171.2</td>\n",
              "      <td>73896.8</td>\n",
              "      <td>64113.6</td>\n",
              "      <td>53583.1</td>\n",
              "      <td>NaN</td>\n",
              "      <td>53201.3</td>\n",
              "    </tr>\n",
              "    <tr>\n",
              "      <th>4</th>\n",
              "      <td>1995-04-01</td>\n",
              "      <td>77101.2</td>\n",
              "      <td>53133.5</td>\n",
              "      <td>90762.9</td>\n",
              "      <td>64277.7</td>\n",
              "      <td>72965.6</td>\n",
              "      <td>81124.4</td>\n",
              "      <td>120098</td>\n",
              "      <td>68610</td>\n",
              "      <td>82188.9</td>\n",
              "      <td>71442.9</td>\n",
              "      <td>61927.7</td>\n",
              "      <td>65139.6</td>\n",
              "      <td>121425</td>\n",
              "      <td>79545.6</td>\n",
              "      <td>83567.9</td>\n",
              "      <td>69444.3</td>\n",
              "      <td>73911.4</td>\n",
              "      <td>71890.3</td>\n",
              "      <td>93344.5</td>\n",
              "      <td>184177</td>\n",
              "      <td>81672.8</td>\n",
              "      <td>66388.8</td>\n",
              "      <td>59471</td>\n",
              "      <td>79990.5</td>\n",
              "      <td>54479.8</td>\n",
              "      <td>72228.6</td>\n",
              "      <td>106875</td>\n",
              "      <td>63073.6</td>\n",
              "      <td>69411.9</td>\n",
              "      <td>66233.2</td>\n",
              "      <td>60971.4</td>\n",
              "      <td>87026</td>\n",
              "      <td>133370</td>\n",
              "      <td>NaN</td>\n",
              "      <td>76851.6</td>\n",
              "      <td>72591.9</td>\n",
              "      <td>NaN</td>\n",
              "      <td>42095.8</td>\n",
              "      <td>44267.8</td>\n",
              "      <td>45614.3</td>\n",
              "      <td>46124.2</td>\n",
              "      <td>49455.9</td>\n",
              "      <td>56567.9</td>\n",
              "      <td>74455.3</td>\n",
              "      <td>64623.2</td>\n",
              "      <td>54786</td>\n",
              "      <td>NaN</td>\n",
              "      <td>53590.9</td>\n",
              "    </tr>\n",
              "  </tbody>\n",
              "</table>\n",
              "</div>"
            ],
            "text/plain": [
              "  Unnamed: 0 City of London  ... Unnamed: 47    England\n",
              "0        NaT      E09000001  ...         NaN  E92000001\n",
              "1 1995-01-01          91449  ...         NaN    53202.8\n",
              "2 1995-02-01        82202.8  ...         NaN    53096.2\n",
              "3 1995-03-01        79120.7  ...         NaN    53201.3\n",
              "4 1995-04-01        77101.2  ...         NaN    53590.9\n",
              "\n",
              "[5 rows x 49 columns]"
            ]
          },
          "metadata": {
            "tags": []
          },
          "execution_count": 3
        }
      ]
    },
    {
      "cell_type": "markdown",
      "metadata": {
        "id": "tE9Sqt9-oAta",
        "colab_type": "text"
      },
      "source": [
        "**2.2. Cleaning the data**\n",
        "\n",
        "You might find you need to transpose your dataframe, check out what its row indexes are, and reset the index. You  also might find you need to assign the values of the first row to your column headings  . (Hint: recall the .columns feature of DataFrames, as well as the iloc[] method).\n",
        "\n",
        "Don't be afraid to use StackOverflow for help  with this."
      ]
    },
    {
      "cell_type": "code",
      "metadata": {
        "id": "cdAu1A3YoH_r",
        "colab_type": "code",
        "colab": {}
      },
      "source": [
        "properties = properties.transpose()"
      ],
      "execution_count": 4,
      "outputs": []
    },
    {
      "cell_type": "code",
      "metadata": {
        "id": "XxU4ii-B-kcU",
        "colab_type": "code",
        "colab": {}
      },
      "source": [
        "properties = properties.reset_index()"
      ],
      "execution_count": 5,
      "outputs": []
    },
    {
      "cell_type": "code",
      "metadata": {
        "id": "OQvmH0zOBEmj",
        "colab_type": "code",
        "colab": {}
      },
      "source": [
        "col_header = properties.iloc[0]"
      ],
      "execution_count": 6,
      "outputs": []
    },
    {
      "cell_type": "code",
      "metadata": {
        "id": "9NVvsQhzC7pj",
        "colab_type": "code",
        "colab": {}
      },
      "source": [
        "properties = properties[1:]"
      ],
      "execution_count": 7,
      "outputs": []
    },
    {
      "cell_type": "code",
      "metadata": {
        "id": "dex7myuIEIsP",
        "colab_type": "code",
        "colab": {}
      },
      "source": [
        "properties.columns = col_header"
      ],
      "execution_count": 8,
      "outputs": []
    },
    {
      "cell_type": "code",
      "metadata": {
        "id": "akJhlWacEWBX",
        "colab_type": "code",
        "colab": {
          "base_uri": "https://localhost:8080/",
          "height": 311
        },
        "outputId": "7909a1af-4e77-4452-d9cc-60a5522036a5"
      },
      "source": [
        "properties.head()"
      ],
      "execution_count": 9,
      "outputs": [
        {
          "output_type": "execute_result",
          "data": {
            "text/html": [
              "<div>\n",
              "<style scoped>\n",
              "    .dataframe tbody tr th:only-of-type {\n",
              "        vertical-align: middle;\n",
              "    }\n",
              "\n",
              "    .dataframe tbody tr th {\n",
              "        vertical-align: top;\n",
              "    }\n",
              "\n",
              "    .dataframe thead th {\n",
              "        text-align: right;\n",
              "    }\n",
              "</style>\n",
              "<table border=\"1\" class=\"dataframe\">\n",
              "  <thead>\n",
              "    <tr style=\"text-align: right;\">\n",
              "      <th></th>\n",
              "      <th>Unnamed: 0</th>\n",
              "      <th>NaN</th>\n",
              "      <th>1995-01-01 00:00:00</th>\n",
              "      <th>1995-02-01 00:00:00</th>\n",
              "      <th>1995-03-01 00:00:00</th>\n",
              "      <th>1995-04-01 00:00:00</th>\n",
              "      <th>1995-05-01 00:00:00</th>\n",
              "      <th>1995-06-01 00:00:00</th>\n",
              "      <th>1995-07-01 00:00:00</th>\n",
              "      <th>1995-08-01 00:00:00</th>\n",
              "      <th>1995-09-01 00:00:00</th>\n",
              "      <th>1995-10-01 00:00:00</th>\n",
              "      <th>1995-11-01 00:00:00</th>\n",
              "      <th>1995-12-01 00:00:00</th>\n",
              "      <th>1996-01-01 00:00:00</th>\n",
              "      <th>1996-02-01 00:00:00</th>\n",
              "      <th>1996-03-01 00:00:00</th>\n",
              "      <th>1996-04-01 00:00:00</th>\n",
              "      <th>1996-05-01 00:00:00</th>\n",
              "      <th>1996-06-01 00:00:00</th>\n",
              "      <th>1996-07-01 00:00:00</th>\n",
              "      <th>1996-08-01 00:00:00</th>\n",
              "      <th>1996-09-01 00:00:00</th>\n",
              "      <th>1996-10-01 00:00:00</th>\n",
              "      <th>1996-11-01 00:00:00</th>\n",
              "      <th>1996-12-01 00:00:00</th>\n",
              "      <th>1997-01-01 00:00:00</th>\n",
              "      <th>1997-02-01 00:00:00</th>\n",
              "      <th>1997-03-01 00:00:00</th>\n",
              "      <th>1997-04-01 00:00:00</th>\n",
              "      <th>1997-05-01 00:00:00</th>\n",
              "      <th>1997-06-01 00:00:00</th>\n",
              "      <th>1997-07-01 00:00:00</th>\n",
              "      <th>1997-08-01 00:00:00</th>\n",
              "      <th>1997-09-01 00:00:00</th>\n",
              "      <th>1997-10-01 00:00:00</th>\n",
              "      <th>1997-11-01 00:00:00</th>\n",
              "      <th>1997-12-01 00:00:00</th>\n",
              "      <th>1998-01-01 00:00:00</th>\n",
              "      <th>1998-02-01 00:00:00</th>\n",
              "      <th>...</th>\n",
              "      <th>2017-02-01 00:00:00</th>\n",
              "      <th>2017-03-01 00:00:00</th>\n",
              "      <th>2017-04-01 00:00:00</th>\n",
              "      <th>2017-05-01 00:00:00</th>\n",
              "      <th>2017-06-01 00:00:00</th>\n",
              "      <th>2017-07-01 00:00:00</th>\n",
              "      <th>2017-08-01 00:00:00</th>\n",
              "      <th>2017-09-01 00:00:00</th>\n",
              "      <th>2017-10-01 00:00:00</th>\n",
              "      <th>2017-11-01 00:00:00</th>\n",
              "      <th>2017-12-01 00:00:00</th>\n",
              "      <th>2018-01-01 00:00:00</th>\n",
              "      <th>2018-02-01 00:00:00</th>\n",
              "      <th>2018-03-01 00:00:00</th>\n",
              "      <th>2018-04-01 00:00:00</th>\n",
              "      <th>2018-05-01 00:00:00</th>\n",
              "      <th>2018-06-01 00:00:00</th>\n",
              "      <th>2018-07-01 00:00:00</th>\n",
              "      <th>2018-08-01 00:00:00</th>\n",
              "      <th>2018-09-01 00:00:00</th>\n",
              "      <th>2018-10-01 00:00:00</th>\n",
              "      <th>2018-11-01 00:00:00</th>\n",
              "      <th>2018-12-01 00:00:00</th>\n",
              "      <th>2019-01-01 00:00:00</th>\n",
              "      <th>2019-02-01 00:00:00</th>\n",
              "      <th>2019-03-01 00:00:00</th>\n",
              "      <th>2019-04-01 00:00:00</th>\n",
              "      <th>2019-05-01 00:00:00</th>\n",
              "      <th>2019-06-01 00:00:00</th>\n",
              "      <th>2019-07-01 00:00:00</th>\n",
              "      <th>2019-08-01 00:00:00</th>\n",
              "      <th>2019-09-01 00:00:00</th>\n",
              "      <th>2019-10-01 00:00:00</th>\n",
              "      <th>2019-11-01 00:00:00</th>\n",
              "      <th>2019-12-01 00:00:00</th>\n",
              "      <th>2020-01-01 00:00:00</th>\n",
              "      <th>2020-02-01 00:00:00</th>\n",
              "      <th>2020-03-01 00:00:00</th>\n",
              "      <th>2020-04-01 00:00:00</th>\n",
              "      <th>2020-05-01 00:00:00</th>\n",
              "    </tr>\n",
              "  </thead>\n",
              "  <tbody>\n",
              "    <tr>\n",
              "      <th>1</th>\n",
              "      <td>City of London</td>\n",
              "      <td>E09000001</td>\n",
              "      <td>91449</td>\n",
              "      <td>82202.8</td>\n",
              "      <td>79120.7</td>\n",
              "      <td>77101.2</td>\n",
              "      <td>84409.1</td>\n",
              "      <td>94900.5</td>\n",
              "      <td>110128</td>\n",
              "      <td>112329</td>\n",
              "      <td>104473</td>\n",
              "      <td>108038</td>\n",
              "      <td>117636</td>\n",
              "      <td>127232</td>\n",
              "      <td>108999</td>\n",
              "      <td>93356.7</td>\n",
              "      <td>93706.7</td>\n",
              "      <td>120543</td>\n",
              "      <td>112050</td>\n",
              "      <td>114226</td>\n",
              "      <td>97546.7</td>\n",
              "      <td>114179</td>\n",
              "      <td>108138</td>\n",
              "      <td>98934.2</td>\n",
              "      <td>99706.8</td>\n",
              "      <td>106427</td>\n",
              "      <td>116343</td>\n",
              "      <td>111142</td>\n",
              "      <td>107488</td>\n",
              "      <td>108480</td>\n",
              "      <td>115453</td>\n",
              "      <td>118317</td>\n",
              "      <td>117034</td>\n",
              "      <td>113585</td>\n",
              "      <td>115159</td>\n",
              "      <td>121251</td>\n",
              "      <td>131074</td>\n",
              "      <td>130035</td>\n",
              "      <td>124382</td>\n",
              "      <td>143829</td>\n",
              "      <td>...</td>\n",
              "      <td>820665</td>\n",
              "      <td>853943</td>\n",
              "      <td>906146</td>\n",
              "      <td>939912</td>\n",
              "      <td>930979</td>\n",
              "      <td>854798</td>\n",
              "      <td>847422</td>\n",
              "      <td>836674</td>\n",
              "      <td>818477</td>\n",
              "      <td>790159</td>\n",
              "      <td>778002</td>\n",
              "      <td>802129</td>\n",
              "      <td>783266</td>\n",
              "      <td>740799</td>\n",
              "      <td>732351</td>\n",
              "      <td>796399</td>\n",
              "      <td>789278</td>\n",
              "      <td>809697</td>\n",
              "      <td>784144</td>\n",
              "      <td>800875</td>\n",
              "      <td>802869</td>\n",
              "      <td>764207</td>\n",
              "      <td>811694</td>\n",
              "      <td>865636</td>\n",
              "      <td>894520</td>\n",
              "      <td>853451</td>\n",
              "      <td>738797</td>\n",
              "      <td>719218</td>\n",
              "      <td>761526</td>\n",
              "      <td>756407</td>\n",
              "      <td>813770</td>\n",
              "      <td>810455</td>\n",
              "      <td>826227</td>\n",
              "      <td>776894</td>\n",
              "      <td>737275</td>\n",
              "      <td>747611</td>\n",
              "      <td>777640</td>\n",
              "      <td>844989</td>\n",
              "      <td>867841</td>\n",
              "      <td>899831</td>\n",
              "    </tr>\n",
              "    <tr>\n",
              "      <th>2</th>\n",
              "      <td>Barking &amp; Dagenham</td>\n",
              "      <td>E09000002</td>\n",
              "      <td>50460.2</td>\n",
              "      <td>51085.8</td>\n",
              "      <td>51269</td>\n",
              "      <td>53133.5</td>\n",
              "      <td>53042.2</td>\n",
              "      <td>53700.3</td>\n",
              "      <td>52113.1</td>\n",
              "      <td>52232.2</td>\n",
              "      <td>51471.6</td>\n",
              "      <td>51513.8</td>\n",
              "      <td>50848.7</td>\n",
              "      <td>50945.2</td>\n",
              "      <td>50828.1</td>\n",
              "      <td>51440.7</td>\n",
              "      <td>51907.1</td>\n",
              "      <td>51724</td>\n",
              "      <td>51735.7</td>\n",
              "      <td>50761.4</td>\n",
              "      <td>50621.1</td>\n",
              "      <td>51104.7</td>\n",
              "      <td>51892.7</td>\n",
              "      <td>52533.2</td>\n",
              "      <td>52216</td>\n",
              "      <td>53853.5</td>\n",
              "      <td>54459</td>\n",
              "      <td>55451.5</td>\n",
              "      <td>55004.8</td>\n",
              "      <td>55279.9</td>\n",
              "      <td>54936.9</td>\n",
              "      <td>55286.7</td>\n",
              "      <td>55658.9</td>\n",
              "      <td>56506.7</td>\n",
              "      <td>56306.3</td>\n",
              "      <td>57200.2</td>\n",
              "      <td>57575.3</td>\n",
              "      <td>58025</td>\n",
              "      <td>57559</td>\n",
              "      <td>57360.3</td>\n",
              "      <td>...</td>\n",
              "      <td>280698</td>\n",
              "      <td>278213</td>\n",
              "      <td>280567</td>\n",
              "      <td>286018</td>\n",
              "      <td>289569</td>\n",
              "      <td>291727</td>\n",
              "      <td>290965</td>\n",
              "      <td>292519</td>\n",
              "      <td>293390</td>\n",
              "      <td>293796</td>\n",
              "      <td>292915</td>\n",
              "      <td>291548</td>\n",
              "      <td>292777</td>\n",
              "      <td>291723</td>\n",
              "      <td>291184</td>\n",
              "      <td>290239</td>\n",
              "      <td>294236</td>\n",
              "      <td>294953</td>\n",
              "      <td>295908</td>\n",
              "      <td>296424</td>\n",
              "      <td>299648</td>\n",
              "      <td>302606</td>\n",
              "      <td>301114</td>\n",
              "      <td>297181</td>\n",
              "      <td>293839</td>\n",
              "      <td>294065</td>\n",
              "      <td>295498</td>\n",
              "      <td>295092</td>\n",
              "      <td>293889</td>\n",
              "      <td>297426</td>\n",
              "      <td>299421</td>\n",
              "      <td>304778</td>\n",
              "      <td>304579</td>\n",
              "      <td>306390</td>\n",
              "      <td>301283</td>\n",
              "      <td>303653</td>\n",
              "      <td>304265</td>\n",
              "      <td>304099</td>\n",
              "      <td>283139</td>\n",
              "      <td>295744</td>\n",
              "    </tr>\n",
              "    <tr>\n",
              "      <th>3</th>\n",
              "      <td>Barnet</td>\n",
              "      <td>E09000003</td>\n",
              "      <td>93284.5</td>\n",
              "      <td>93190.2</td>\n",
              "      <td>92247.5</td>\n",
              "      <td>90762.9</td>\n",
              "      <td>90258</td>\n",
              "      <td>90107.2</td>\n",
              "      <td>91441.2</td>\n",
              "      <td>92361.3</td>\n",
              "      <td>93273.1</td>\n",
              "      <td>92567.4</td>\n",
              "      <td>90883.2</td>\n",
              "      <td>91133.9</td>\n",
              "      <td>91111</td>\n",
              "      <td>92429.5</td>\n",
              "      <td>91409.8</td>\n",
              "      <td>92394.2</td>\n",
              "      <td>91058.9</td>\n",
              "      <td>91978.2</td>\n",
              "      <td>92444.1</td>\n",
              "      <td>95516</td>\n",
              "      <td>97489.9</td>\n",
              "      <td>97844.5</td>\n",
              "      <td>97155</td>\n",
              "      <td>97174.3</td>\n",
              "      <td>98558.8</td>\n",
              "      <td>100076</td>\n",
              "      <td>101130</td>\n",
              "      <td>101201</td>\n",
              "      <td>103287</td>\n",
              "      <td>104609</td>\n",
              "      <td>107235</td>\n",
              "      <td>108730</td>\n",
              "      <td>112380</td>\n",
              "      <td>114515</td>\n",
              "      <td>115356</td>\n",
              "      <td>115521</td>\n",
              "      <td>115902</td>\n",
              "      <td>116995</td>\n",
              "      <td>...</td>\n",
              "      <td>540501</td>\n",
              "      <td>549401</td>\n",
              "      <td>543699</td>\n",
              "      <td>544994</td>\n",
              "      <td>531344</td>\n",
              "      <td>527928</td>\n",
              "      <td>526223</td>\n",
              "      <td>537986</td>\n",
              "      <td>544090</td>\n",
              "      <td>541563</td>\n",
              "      <td>538718</td>\n",
              "      <td>531832</td>\n",
              "      <td>531736</td>\n",
              "      <td>538120</td>\n",
              "      <td>541502</td>\n",
              "      <td>533088</td>\n",
              "      <td>524702</td>\n",
              "      <td>523397</td>\n",
              "      <td>533715</td>\n",
              "      <td>534951</td>\n",
              "      <td>537284</td>\n",
              "      <td>535060</td>\n",
              "      <td>533810</td>\n",
              "      <td>528639</td>\n",
              "      <td>523679</td>\n",
              "      <td>516531</td>\n",
              "      <td>512343</td>\n",
              "      <td>503911</td>\n",
              "      <td>512694</td>\n",
              "      <td>514668</td>\n",
              "      <td>528577</td>\n",
              "      <td>526670</td>\n",
              "      <td>525678</td>\n",
              "      <td>522639</td>\n",
              "      <td>519306</td>\n",
              "      <td>518542</td>\n",
              "      <td>519121</td>\n",
              "      <td>527747</td>\n",
              "      <td>526553</td>\n",
              "      <td>532503</td>\n",
              "    </tr>\n",
              "    <tr>\n",
              "      <th>4</th>\n",
              "      <td>Bexley</td>\n",
              "      <td>E09000004</td>\n",
              "      <td>64958.1</td>\n",
              "      <td>64787.9</td>\n",
              "      <td>64367.5</td>\n",
              "      <td>64277.7</td>\n",
              "      <td>63997.1</td>\n",
              "      <td>64252.3</td>\n",
              "      <td>63722.7</td>\n",
              "      <td>64432.6</td>\n",
              "      <td>64509.5</td>\n",
              "      <td>64529.9</td>\n",
              "      <td>63846</td>\n",
              "      <td>63816.9</td>\n",
              "      <td>63996</td>\n",
              "      <td>64503.7</td>\n",
              "      <td>64788</td>\n",
              "      <td>65285.9</td>\n",
              "      <td>65080.7</td>\n",
              "      <td>65119.8</td>\n",
              "      <td>65150.6</td>\n",
              "      <td>65960.2</td>\n",
              "      <td>66500.6</td>\n",
              "      <td>66659.3</td>\n",
              "      <td>66353.8</td>\n",
              "      <td>66486.4</td>\n",
              "      <td>67350.6</td>\n",
              "      <td>67981.2</td>\n",
              "      <td>67823.8</td>\n",
              "      <td>68470.5</td>\n",
              "      <td>69353.5</td>\n",
              "      <td>70764.1</td>\n",
              "      <td>71129.8</td>\n",
              "      <td>72140.7</td>\n",
              "      <td>72830.3</td>\n",
              "      <td>73378.8</td>\n",
              "      <td>73619.6</td>\n",
              "      <td>74630.1</td>\n",
              "      <td>76863.5</td>\n",
              "      <td>78064.9</td>\n",
              "      <td>...</td>\n",
              "      <td>328824</td>\n",
              "      <td>328858</td>\n",
              "      <td>329046</td>\n",
              "      <td>333651</td>\n",
              "      <td>336980</td>\n",
              "      <td>344041</td>\n",
              "      <td>344517</td>\n",
              "      <td>339808</td>\n",
              "      <td>335705</td>\n",
              "      <td>336239</td>\n",
              "      <td>340598</td>\n",
              "      <td>342096</td>\n",
              "      <td>341254</td>\n",
              "      <td>339632</td>\n",
              "      <td>338476</td>\n",
              "      <td>336410</td>\n",
              "      <td>341480</td>\n",
              "      <td>345693</td>\n",
              "      <td>347531</td>\n",
              "      <td>346151</td>\n",
              "      <td>344681</td>\n",
              "      <td>344172</td>\n",
              "      <td>343667</td>\n",
              "      <td>338708</td>\n",
              "      <td>339186</td>\n",
              "      <td>336680</td>\n",
              "      <td>339330</td>\n",
              "      <td>336981</td>\n",
              "      <td>339324</td>\n",
              "      <td>338346</td>\n",
              "      <td>337523</td>\n",
              "      <td>333340</td>\n",
              "      <td>332920</td>\n",
              "      <td>333657</td>\n",
              "      <td>336302</td>\n",
              "      <td>334765</td>\n",
              "      <td>337760</td>\n",
              "      <td>339215</td>\n",
              "      <td>346840</td>\n",
              "      <td>339408</td>\n",
              "    </tr>\n",
              "    <tr>\n",
              "      <th>5</th>\n",
              "      <td>Brent</td>\n",
              "      <td>E09000005</td>\n",
              "      <td>71306.6</td>\n",
              "      <td>72022.3</td>\n",
              "      <td>72015.8</td>\n",
              "      <td>72965.6</td>\n",
              "      <td>73704</td>\n",
              "      <td>74310.5</td>\n",
              "      <td>74127</td>\n",
              "      <td>73547</td>\n",
              "      <td>73789.5</td>\n",
              "      <td>73264.1</td>\n",
              "      <td>72782</td>\n",
              "      <td>72523.7</td>\n",
              "      <td>72806.3</td>\n",
              "      <td>73084.1</td>\n",
              "      <td>72779.8</td>\n",
              "      <td>72369.7</td>\n",
              "      <td>72994.8</td>\n",
              "      <td>73497.6</td>\n",
              "      <td>75551.2</td>\n",
              "      <td>76913.7</td>\n",
              "      <td>78667.1</td>\n",
              "      <td>77990.9</td>\n",
              "      <td>77914.2</td>\n",
              "      <td>78261.6</td>\n",
              "      <td>79664</td>\n",
              "      <td>81213.2</td>\n",
              "      <td>82321.9</td>\n",
              "      <td>82771</td>\n",
              "      <td>82729.7</td>\n",
              "      <td>83876.3</td>\n",
              "      <td>87636.9</td>\n",
              "      <td>90164</td>\n",
              "      <td>91472.6</td>\n",
              "      <td>92208.2</td>\n",
              "      <td>92895.5</td>\n",
              "      <td>94035.6</td>\n",
              "      <td>93746</td>\n",
              "      <td>95171.5</td>\n",
              "      <td>...</td>\n",
              "      <td>475608</td>\n",
              "      <td>484944</td>\n",
              "      <td>488416</td>\n",
              "      <td>490062</td>\n",
              "      <td>492335</td>\n",
              "      <td>491003</td>\n",
              "      <td>498192</td>\n",
              "      <td>490673</td>\n",
              "      <td>489039</td>\n",
              "      <td>485285</td>\n",
              "      <td>494515</td>\n",
              "      <td>493882</td>\n",
              "      <td>493621</td>\n",
              "      <td>482967</td>\n",
              "      <td>485434</td>\n",
              "      <td>480836</td>\n",
              "      <td>492743</td>\n",
              "      <td>505028</td>\n",
              "      <td>519754</td>\n",
              "      <td>510930</td>\n",
              "      <td>493489</td>\n",
              "      <td>479104</td>\n",
              "      <td>476356</td>\n",
              "      <td>479106</td>\n",
              "      <td>478494</td>\n",
              "      <td>475430</td>\n",
              "      <td>486253</td>\n",
              "      <td>481803</td>\n",
              "      <td>474821</td>\n",
              "      <td>473849</td>\n",
              "      <td>488784</td>\n",
              "      <td>501533</td>\n",
              "      <td>494770</td>\n",
              "      <td>432188</td>\n",
              "      <td>427126</td>\n",
              "      <td>423161</td>\n",
              "      <td>467145</td>\n",
              "      <td>461398</td>\n",
              "      <td>494455</td>\n",
              "      <td>466574</td>\n",
              "    </tr>\n",
              "  </tbody>\n",
              "</table>\n",
              "<p>5 rows × 307 columns</p>\n",
              "</div>"
            ],
            "text/plain": [
              "0          Unnamed: 0        NaN  ... 2020-04-01 00:00:00 2020-05-01 00:00:00\n",
              "1      City of London  E09000001  ...              867841              899831\n",
              "2  Barking & Dagenham  E09000002  ...              283139              295744\n",
              "3              Barnet  E09000003  ...              526553              532503\n",
              "4              Bexley  E09000004  ...              346840              339408\n",
              "5               Brent  E09000005  ...              494455              466574\n",
              "\n",
              "[5 rows x 307 columns]"
            ]
          },
          "metadata": {
            "tags": []
          },
          "execution_count": 9
        }
      ]
    },
    {
      "cell_type": "markdown",
      "metadata": {
        "id": "o1uLbJAsoIjK",
        "colab_type": "text"
      },
      "source": [
        "**2.3. Cleaning the data (part 2)**\n",
        "\n",
        "You might we have to **rename** a couple columns. How do you do this? The clue's pretty bold..."
      ]
    },
    {
      "cell_type": "code",
      "metadata": {
        "id": "GKkmn1AnoVZS",
        "colab_type": "code",
        "colab": {}
      },
      "source": [
        "properties.columns = ['London Borough', 'ID'] + properties.columns[2:].tolist()"
      ],
      "execution_count": 10,
      "outputs": []
    },
    {
      "cell_type": "code",
      "metadata": {
        "id": "Jysb6IYTQPBl",
        "colab_type": "code",
        "colab": {
          "base_uri": "https://localhost:8080/",
          "height": 311
        },
        "outputId": "449893a3-e28b-45b9-c4cf-e786edb99979"
      },
      "source": [
        "properties.head()"
      ],
      "execution_count": 11,
      "outputs": [
        {
          "output_type": "execute_result",
          "data": {
            "text/html": [
              "<div>\n",
              "<style scoped>\n",
              "    .dataframe tbody tr th:only-of-type {\n",
              "        vertical-align: middle;\n",
              "    }\n",
              "\n",
              "    .dataframe tbody tr th {\n",
              "        vertical-align: top;\n",
              "    }\n",
              "\n",
              "    .dataframe thead th {\n",
              "        text-align: right;\n",
              "    }\n",
              "</style>\n",
              "<table border=\"1\" class=\"dataframe\">\n",
              "  <thead>\n",
              "    <tr style=\"text-align: right;\">\n",
              "      <th></th>\n",
              "      <th>London Borough</th>\n",
              "      <th>ID</th>\n",
              "      <th>1995-01-01 00:00:00</th>\n",
              "      <th>1995-02-01 00:00:00</th>\n",
              "      <th>1995-03-01 00:00:00</th>\n",
              "      <th>1995-04-01 00:00:00</th>\n",
              "      <th>1995-05-01 00:00:00</th>\n",
              "      <th>1995-06-01 00:00:00</th>\n",
              "      <th>1995-07-01 00:00:00</th>\n",
              "      <th>1995-08-01 00:00:00</th>\n",
              "      <th>1995-09-01 00:00:00</th>\n",
              "      <th>1995-10-01 00:00:00</th>\n",
              "      <th>1995-11-01 00:00:00</th>\n",
              "      <th>1995-12-01 00:00:00</th>\n",
              "      <th>1996-01-01 00:00:00</th>\n",
              "      <th>1996-02-01 00:00:00</th>\n",
              "      <th>1996-03-01 00:00:00</th>\n",
              "      <th>1996-04-01 00:00:00</th>\n",
              "      <th>1996-05-01 00:00:00</th>\n",
              "      <th>1996-06-01 00:00:00</th>\n",
              "      <th>1996-07-01 00:00:00</th>\n",
              "      <th>1996-08-01 00:00:00</th>\n",
              "      <th>1996-09-01 00:00:00</th>\n",
              "      <th>1996-10-01 00:00:00</th>\n",
              "      <th>1996-11-01 00:00:00</th>\n",
              "      <th>1996-12-01 00:00:00</th>\n",
              "      <th>1997-01-01 00:00:00</th>\n",
              "      <th>1997-02-01 00:00:00</th>\n",
              "      <th>1997-03-01 00:00:00</th>\n",
              "      <th>1997-04-01 00:00:00</th>\n",
              "      <th>1997-05-01 00:00:00</th>\n",
              "      <th>1997-06-01 00:00:00</th>\n",
              "      <th>1997-07-01 00:00:00</th>\n",
              "      <th>1997-08-01 00:00:00</th>\n",
              "      <th>1997-09-01 00:00:00</th>\n",
              "      <th>1997-10-01 00:00:00</th>\n",
              "      <th>1997-11-01 00:00:00</th>\n",
              "      <th>1997-12-01 00:00:00</th>\n",
              "      <th>1998-01-01 00:00:00</th>\n",
              "      <th>1998-02-01 00:00:00</th>\n",
              "      <th>...</th>\n",
              "      <th>2017-02-01 00:00:00</th>\n",
              "      <th>2017-03-01 00:00:00</th>\n",
              "      <th>2017-04-01 00:00:00</th>\n",
              "      <th>2017-05-01 00:00:00</th>\n",
              "      <th>2017-06-01 00:00:00</th>\n",
              "      <th>2017-07-01 00:00:00</th>\n",
              "      <th>2017-08-01 00:00:00</th>\n",
              "      <th>2017-09-01 00:00:00</th>\n",
              "      <th>2017-10-01 00:00:00</th>\n",
              "      <th>2017-11-01 00:00:00</th>\n",
              "      <th>2017-12-01 00:00:00</th>\n",
              "      <th>2018-01-01 00:00:00</th>\n",
              "      <th>2018-02-01 00:00:00</th>\n",
              "      <th>2018-03-01 00:00:00</th>\n",
              "      <th>2018-04-01 00:00:00</th>\n",
              "      <th>2018-05-01 00:00:00</th>\n",
              "      <th>2018-06-01 00:00:00</th>\n",
              "      <th>2018-07-01 00:00:00</th>\n",
              "      <th>2018-08-01 00:00:00</th>\n",
              "      <th>2018-09-01 00:00:00</th>\n",
              "      <th>2018-10-01 00:00:00</th>\n",
              "      <th>2018-11-01 00:00:00</th>\n",
              "      <th>2018-12-01 00:00:00</th>\n",
              "      <th>2019-01-01 00:00:00</th>\n",
              "      <th>2019-02-01 00:00:00</th>\n",
              "      <th>2019-03-01 00:00:00</th>\n",
              "      <th>2019-04-01 00:00:00</th>\n",
              "      <th>2019-05-01 00:00:00</th>\n",
              "      <th>2019-06-01 00:00:00</th>\n",
              "      <th>2019-07-01 00:00:00</th>\n",
              "      <th>2019-08-01 00:00:00</th>\n",
              "      <th>2019-09-01 00:00:00</th>\n",
              "      <th>2019-10-01 00:00:00</th>\n",
              "      <th>2019-11-01 00:00:00</th>\n",
              "      <th>2019-12-01 00:00:00</th>\n",
              "      <th>2020-01-01 00:00:00</th>\n",
              "      <th>2020-02-01 00:00:00</th>\n",
              "      <th>2020-03-01 00:00:00</th>\n",
              "      <th>2020-04-01 00:00:00</th>\n",
              "      <th>2020-05-01 00:00:00</th>\n",
              "    </tr>\n",
              "  </thead>\n",
              "  <tbody>\n",
              "    <tr>\n",
              "      <th>1</th>\n",
              "      <td>City of London</td>\n",
              "      <td>E09000001</td>\n",
              "      <td>91449</td>\n",
              "      <td>82202.8</td>\n",
              "      <td>79120.7</td>\n",
              "      <td>77101.2</td>\n",
              "      <td>84409.1</td>\n",
              "      <td>94900.5</td>\n",
              "      <td>110128</td>\n",
              "      <td>112329</td>\n",
              "      <td>104473</td>\n",
              "      <td>108038</td>\n",
              "      <td>117636</td>\n",
              "      <td>127232</td>\n",
              "      <td>108999</td>\n",
              "      <td>93356.7</td>\n",
              "      <td>93706.7</td>\n",
              "      <td>120543</td>\n",
              "      <td>112050</td>\n",
              "      <td>114226</td>\n",
              "      <td>97546.7</td>\n",
              "      <td>114179</td>\n",
              "      <td>108138</td>\n",
              "      <td>98934.2</td>\n",
              "      <td>99706.8</td>\n",
              "      <td>106427</td>\n",
              "      <td>116343</td>\n",
              "      <td>111142</td>\n",
              "      <td>107488</td>\n",
              "      <td>108480</td>\n",
              "      <td>115453</td>\n",
              "      <td>118317</td>\n",
              "      <td>117034</td>\n",
              "      <td>113585</td>\n",
              "      <td>115159</td>\n",
              "      <td>121251</td>\n",
              "      <td>131074</td>\n",
              "      <td>130035</td>\n",
              "      <td>124382</td>\n",
              "      <td>143829</td>\n",
              "      <td>...</td>\n",
              "      <td>820665</td>\n",
              "      <td>853943</td>\n",
              "      <td>906146</td>\n",
              "      <td>939912</td>\n",
              "      <td>930979</td>\n",
              "      <td>854798</td>\n",
              "      <td>847422</td>\n",
              "      <td>836674</td>\n",
              "      <td>818477</td>\n",
              "      <td>790159</td>\n",
              "      <td>778002</td>\n",
              "      <td>802129</td>\n",
              "      <td>783266</td>\n",
              "      <td>740799</td>\n",
              "      <td>732351</td>\n",
              "      <td>796399</td>\n",
              "      <td>789278</td>\n",
              "      <td>809697</td>\n",
              "      <td>784144</td>\n",
              "      <td>800875</td>\n",
              "      <td>802869</td>\n",
              "      <td>764207</td>\n",
              "      <td>811694</td>\n",
              "      <td>865636</td>\n",
              "      <td>894520</td>\n",
              "      <td>853451</td>\n",
              "      <td>738797</td>\n",
              "      <td>719218</td>\n",
              "      <td>761526</td>\n",
              "      <td>756407</td>\n",
              "      <td>813770</td>\n",
              "      <td>810455</td>\n",
              "      <td>826227</td>\n",
              "      <td>776894</td>\n",
              "      <td>737275</td>\n",
              "      <td>747611</td>\n",
              "      <td>777640</td>\n",
              "      <td>844989</td>\n",
              "      <td>867841</td>\n",
              "      <td>899831</td>\n",
              "    </tr>\n",
              "    <tr>\n",
              "      <th>2</th>\n",
              "      <td>Barking &amp; Dagenham</td>\n",
              "      <td>E09000002</td>\n",
              "      <td>50460.2</td>\n",
              "      <td>51085.8</td>\n",
              "      <td>51269</td>\n",
              "      <td>53133.5</td>\n",
              "      <td>53042.2</td>\n",
              "      <td>53700.3</td>\n",
              "      <td>52113.1</td>\n",
              "      <td>52232.2</td>\n",
              "      <td>51471.6</td>\n",
              "      <td>51513.8</td>\n",
              "      <td>50848.7</td>\n",
              "      <td>50945.2</td>\n",
              "      <td>50828.1</td>\n",
              "      <td>51440.7</td>\n",
              "      <td>51907.1</td>\n",
              "      <td>51724</td>\n",
              "      <td>51735.7</td>\n",
              "      <td>50761.4</td>\n",
              "      <td>50621.1</td>\n",
              "      <td>51104.7</td>\n",
              "      <td>51892.7</td>\n",
              "      <td>52533.2</td>\n",
              "      <td>52216</td>\n",
              "      <td>53853.5</td>\n",
              "      <td>54459</td>\n",
              "      <td>55451.5</td>\n",
              "      <td>55004.8</td>\n",
              "      <td>55279.9</td>\n",
              "      <td>54936.9</td>\n",
              "      <td>55286.7</td>\n",
              "      <td>55658.9</td>\n",
              "      <td>56506.7</td>\n",
              "      <td>56306.3</td>\n",
              "      <td>57200.2</td>\n",
              "      <td>57575.3</td>\n",
              "      <td>58025</td>\n",
              "      <td>57559</td>\n",
              "      <td>57360.3</td>\n",
              "      <td>...</td>\n",
              "      <td>280698</td>\n",
              "      <td>278213</td>\n",
              "      <td>280567</td>\n",
              "      <td>286018</td>\n",
              "      <td>289569</td>\n",
              "      <td>291727</td>\n",
              "      <td>290965</td>\n",
              "      <td>292519</td>\n",
              "      <td>293390</td>\n",
              "      <td>293796</td>\n",
              "      <td>292915</td>\n",
              "      <td>291548</td>\n",
              "      <td>292777</td>\n",
              "      <td>291723</td>\n",
              "      <td>291184</td>\n",
              "      <td>290239</td>\n",
              "      <td>294236</td>\n",
              "      <td>294953</td>\n",
              "      <td>295908</td>\n",
              "      <td>296424</td>\n",
              "      <td>299648</td>\n",
              "      <td>302606</td>\n",
              "      <td>301114</td>\n",
              "      <td>297181</td>\n",
              "      <td>293839</td>\n",
              "      <td>294065</td>\n",
              "      <td>295498</td>\n",
              "      <td>295092</td>\n",
              "      <td>293889</td>\n",
              "      <td>297426</td>\n",
              "      <td>299421</td>\n",
              "      <td>304778</td>\n",
              "      <td>304579</td>\n",
              "      <td>306390</td>\n",
              "      <td>301283</td>\n",
              "      <td>303653</td>\n",
              "      <td>304265</td>\n",
              "      <td>304099</td>\n",
              "      <td>283139</td>\n",
              "      <td>295744</td>\n",
              "    </tr>\n",
              "    <tr>\n",
              "      <th>3</th>\n",
              "      <td>Barnet</td>\n",
              "      <td>E09000003</td>\n",
              "      <td>93284.5</td>\n",
              "      <td>93190.2</td>\n",
              "      <td>92247.5</td>\n",
              "      <td>90762.9</td>\n",
              "      <td>90258</td>\n",
              "      <td>90107.2</td>\n",
              "      <td>91441.2</td>\n",
              "      <td>92361.3</td>\n",
              "      <td>93273.1</td>\n",
              "      <td>92567.4</td>\n",
              "      <td>90883.2</td>\n",
              "      <td>91133.9</td>\n",
              "      <td>91111</td>\n",
              "      <td>92429.5</td>\n",
              "      <td>91409.8</td>\n",
              "      <td>92394.2</td>\n",
              "      <td>91058.9</td>\n",
              "      <td>91978.2</td>\n",
              "      <td>92444.1</td>\n",
              "      <td>95516</td>\n",
              "      <td>97489.9</td>\n",
              "      <td>97844.5</td>\n",
              "      <td>97155</td>\n",
              "      <td>97174.3</td>\n",
              "      <td>98558.8</td>\n",
              "      <td>100076</td>\n",
              "      <td>101130</td>\n",
              "      <td>101201</td>\n",
              "      <td>103287</td>\n",
              "      <td>104609</td>\n",
              "      <td>107235</td>\n",
              "      <td>108730</td>\n",
              "      <td>112380</td>\n",
              "      <td>114515</td>\n",
              "      <td>115356</td>\n",
              "      <td>115521</td>\n",
              "      <td>115902</td>\n",
              "      <td>116995</td>\n",
              "      <td>...</td>\n",
              "      <td>540501</td>\n",
              "      <td>549401</td>\n",
              "      <td>543699</td>\n",
              "      <td>544994</td>\n",
              "      <td>531344</td>\n",
              "      <td>527928</td>\n",
              "      <td>526223</td>\n",
              "      <td>537986</td>\n",
              "      <td>544090</td>\n",
              "      <td>541563</td>\n",
              "      <td>538718</td>\n",
              "      <td>531832</td>\n",
              "      <td>531736</td>\n",
              "      <td>538120</td>\n",
              "      <td>541502</td>\n",
              "      <td>533088</td>\n",
              "      <td>524702</td>\n",
              "      <td>523397</td>\n",
              "      <td>533715</td>\n",
              "      <td>534951</td>\n",
              "      <td>537284</td>\n",
              "      <td>535060</td>\n",
              "      <td>533810</td>\n",
              "      <td>528639</td>\n",
              "      <td>523679</td>\n",
              "      <td>516531</td>\n",
              "      <td>512343</td>\n",
              "      <td>503911</td>\n",
              "      <td>512694</td>\n",
              "      <td>514668</td>\n",
              "      <td>528577</td>\n",
              "      <td>526670</td>\n",
              "      <td>525678</td>\n",
              "      <td>522639</td>\n",
              "      <td>519306</td>\n",
              "      <td>518542</td>\n",
              "      <td>519121</td>\n",
              "      <td>527747</td>\n",
              "      <td>526553</td>\n",
              "      <td>532503</td>\n",
              "    </tr>\n",
              "    <tr>\n",
              "      <th>4</th>\n",
              "      <td>Bexley</td>\n",
              "      <td>E09000004</td>\n",
              "      <td>64958.1</td>\n",
              "      <td>64787.9</td>\n",
              "      <td>64367.5</td>\n",
              "      <td>64277.7</td>\n",
              "      <td>63997.1</td>\n",
              "      <td>64252.3</td>\n",
              "      <td>63722.7</td>\n",
              "      <td>64432.6</td>\n",
              "      <td>64509.5</td>\n",
              "      <td>64529.9</td>\n",
              "      <td>63846</td>\n",
              "      <td>63816.9</td>\n",
              "      <td>63996</td>\n",
              "      <td>64503.7</td>\n",
              "      <td>64788</td>\n",
              "      <td>65285.9</td>\n",
              "      <td>65080.7</td>\n",
              "      <td>65119.8</td>\n",
              "      <td>65150.6</td>\n",
              "      <td>65960.2</td>\n",
              "      <td>66500.6</td>\n",
              "      <td>66659.3</td>\n",
              "      <td>66353.8</td>\n",
              "      <td>66486.4</td>\n",
              "      <td>67350.6</td>\n",
              "      <td>67981.2</td>\n",
              "      <td>67823.8</td>\n",
              "      <td>68470.5</td>\n",
              "      <td>69353.5</td>\n",
              "      <td>70764.1</td>\n",
              "      <td>71129.8</td>\n",
              "      <td>72140.7</td>\n",
              "      <td>72830.3</td>\n",
              "      <td>73378.8</td>\n",
              "      <td>73619.6</td>\n",
              "      <td>74630.1</td>\n",
              "      <td>76863.5</td>\n",
              "      <td>78064.9</td>\n",
              "      <td>...</td>\n",
              "      <td>328824</td>\n",
              "      <td>328858</td>\n",
              "      <td>329046</td>\n",
              "      <td>333651</td>\n",
              "      <td>336980</td>\n",
              "      <td>344041</td>\n",
              "      <td>344517</td>\n",
              "      <td>339808</td>\n",
              "      <td>335705</td>\n",
              "      <td>336239</td>\n",
              "      <td>340598</td>\n",
              "      <td>342096</td>\n",
              "      <td>341254</td>\n",
              "      <td>339632</td>\n",
              "      <td>338476</td>\n",
              "      <td>336410</td>\n",
              "      <td>341480</td>\n",
              "      <td>345693</td>\n",
              "      <td>347531</td>\n",
              "      <td>346151</td>\n",
              "      <td>344681</td>\n",
              "      <td>344172</td>\n",
              "      <td>343667</td>\n",
              "      <td>338708</td>\n",
              "      <td>339186</td>\n",
              "      <td>336680</td>\n",
              "      <td>339330</td>\n",
              "      <td>336981</td>\n",
              "      <td>339324</td>\n",
              "      <td>338346</td>\n",
              "      <td>337523</td>\n",
              "      <td>333340</td>\n",
              "      <td>332920</td>\n",
              "      <td>333657</td>\n",
              "      <td>336302</td>\n",
              "      <td>334765</td>\n",
              "      <td>337760</td>\n",
              "      <td>339215</td>\n",
              "      <td>346840</td>\n",
              "      <td>339408</td>\n",
              "    </tr>\n",
              "    <tr>\n",
              "      <th>5</th>\n",
              "      <td>Brent</td>\n",
              "      <td>E09000005</td>\n",
              "      <td>71306.6</td>\n",
              "      <td>72022.3</td>\n",
              "      <td>72015.8</td>\n",
              "      <td>72965.6</td>\n",
              "      <td>73704</td>\n",
              "      <td>74310.5</td>\n",
              "      <td>74127</td>\n",
              "      <td>73547</td>\n",
              "      <td>73789.5</td>\n",
              "      <td>73264.1</td>\n",
              "      <td>72782</td>\n",
              "      <td>72523.7</td>\n",
              "      <td>72806.3</td>\n",
              "      <td>73084.1</td>\n",
              "      <td>72779.8</td>\n",
              "      <td>72369.7</td>\n",
              "      <td>72994.8</td>\n",
              "      <td>73497.6</td>\n",
              "      <td>75551.2</td>\n",
              "      <td>76913.7</td>\n",
              "      <td>78667.1</td>\n",
              "      <td>77990.9</td>\n",
              "      <td>77914.2</td>\n",
              "      <td>78261.6</td>\n",
              "      <td>79664</td>\n",
              "      <td>81213.2</td>\n",
              "      <td>82321.9</td>\n",
              "      <td>82771</td>\n",
              "      <td>82729.7</td>\n",
              "      <td>83876.3</td>\n",
              "      <td>87636.9</td>\n",
              "      <td>90164</td>\n",
              "      <td>91472.6</td>\n",
              "      <td>92208.2</td>\n",
              "      <td>92895.5</td>\n",
              "      <td>94035.6</td>\n",
              "      <td>93746</td>\n",
              "      <td>95171.5</td>\n",
              "      <td>...</td>\n",
              "      <td>475608</td>\n",
              "      <td>484944</td>\n",
              "      <td>488416</td>\n",
              "      <td>490062</td>\n",
              "      <td>492335</td>\n",
              "      <td>491003</td>\n",
              "      <td>498192</td>\n",
              "      <td>490673</td>\n",
              "      <td>489039</td>\n",
              "      <td>485285</td>\n",
              "      <td>494515</td>\n",
              "      <td>493882</td>\n",
              "      <td>493621</td>\n",
              "      <td>482967</td>\n",
              "      <td>485434</td>\n",
              "      <td>480836</td>\n",
              "      <td>492743</td>\n",
              "      <td>505028</td>\n",
              "      <td>519754</td>\n",
              "      <td>510930</td>\n",
              "      <td>493489</td>\n",
              "      <td>479104</td>\n",
              "      <td>476356</td>\n",
              "      <td>479106</td>\n",
              "      <td>478494</td>\n",
              "      <td>475430</td>\n",
              "      <td>486253</td>\n",
              "      <td>481803</td>\n",
              "      <td>474821</td>\n",
              "      <td>473849</td>\n",
              "      <td>488784</td>\n",
              "      <td>501533</td>\n",
              "      <td>494770</td>\n",
              "      <td>432188</td>\n",
              "      <td>427126</td>\n",
              "      <td>423161</td>\n",
              "      <td>467145</td>\n",
              "      <td>461398</td>\n",
              "      <td>494455</td>\n",
              "      <td>466574</td>\n",
              "    </tr>\n",
              "  </tbody>\n",
              "</table>\n",
              "<p>5 rows × 307 columns</p>\n",
              "</div>"
            ],
            "text/plain": [
              "       London Borough         ID  ... 2020-04-01 00:00:00 2020-05-01 00:00:00\n",
              "1      City of London  E09000001  ...              867841              899831\n",
              "2  Barking & Dagenham  E09000002  ...              283139              295744\n",
              "3              Barnet  E09000003  ...              526553              532503\n",
              "4              Bexley  E09000004  ...              346840              339408\n",
              "5               Brent  E09000005  ...              494455              466574\n",
              "\n",
              "[5 rows x 307 columns]"
            ]
          },
          "metadata": {
            "tags": []
          },
          "execution_count": 11
        }
      ]
    },
    {
      "cell_type": "markdown",
      "metadata": {
        "id": "jy8BzXHmoWEw",
        "colab_type": "text"
      },
      "source": [
        "**2.4.Transforming the data**\n",
        "\n",
        "Remember what Wes McKinney said about tidy data? \n",
        "\n",
        "You might need to **melt** your DataFrame here. "
      ]
    },
    {
      "cell_type": "code",
      "metadata": {
        "id": "S2wM0qLuo2Zt",
        "colab_type": "code",
        "colab": {}
      },
      "source": [
        "properties = pd.melt(properties, id_vars=['London Borough', 'ID'])"
      ],
      "execution_count": 12,
      "outputs": []
    },
    {
      "cell_type": "code",
      "metadata": {
        "id": "tmUf94iIc6HX",
        "colab_type": "code",
        "colab": {
          "base_uri": "https://localhost:8080/",
          "height": 195
        },
        "outputId": "eff0fc5b-3a32-4f33-85b9-275a545d9df5"
      },
      "source": [
        "properties.head()"
      ],
      "execution_count": 13,
      "outputs": [
        {
          "output_type": "execute_result",
          "data": {
            "text/html": [
              "<div>\n",
              "<style scoped>\n",
              "    .dataframe tbody tr th:only-of-type {\n",
              "        vertical-align: middle;\n",
              "    }\n",
              "\n",
              "    .dataframe tbody tr th {\n",
              "        vertical-align: top;\n",
              "    }\n",
              "\n",
              "    .dataframe thead th {\n",
              "        text-align: right;\n",
              "    }\n",
              "</style>\n",
              "<table border=\"1\" class=\"dataframe\">\n",
              "  <thead>\n",
              "    <tr style=\"text-align: right;\">\n",
              "      <th></th>\n",
              "      <th>London Borough</th>\n",
              "      <th>ID</th>\n",
              "      <th>variable</th>\n",
              "      <th>value</th>\n",
              "    </tr>\n",
              "  </thead>\n",
              "  <tbody>\n",
              "    <tr>\n",
              "      <th>0</th>\n",
              "      <td>City of London</td>\n",
              "      <td>E09000001</td>\n",
              "      <td>1995-01-01</td>\n",
              "      <td>91449</td>\n",
              "    </tr>\n",
              "    <tr>\n",
              "      <th>1</th>\n",
              "      <td>Barking &amp; Dagenham</td>\n",
              "      <td>E09000002</td>\n",
              "      <td>1995-01-01</td>\n",
              "      <td>50460.2</td>\n",
              "    </tr>\n",
              "    <tr>\n",
              "      <th>2</th>\n",
              "      <td>Barnet</td>\n",
              "      <td>E09000003</td>\n",
              "      <td>1995-01-01</td>\n",
              "      <td>93284.5</td>\n",
              "    </tr>\n",
              "    <tr>\n",
              "      <th>3</th>\n",
              "      <td>Bexley</td>\n",
              "      <td>E09000004</td>\n",
              "      <td>1995-01-01</td>\n",
              "      <td>64958.1</td>\n",
              "    </tr>\n",
              "    <tr>\n",
              "      <th>4</th>\n",
              "      <td>Brent</td>\n",
              "      <td>E09000005</td>\n",
              "      <td>1995-01-01</td>\n",
              "      <td>71306.6</td>\n",
              "    </tr>\n",
              "  </tbody>\n",
              "</table>\n",
              "</div>"
            ],
            "text/plain": [
              "       London Borough         ID   variable    value\n",
              "0      City of London  E09000001 1995-01-01    91449\n",
              "1  Barking & Dagenham  E09000002 1995-01-01  50460.2\n",
              "2              Barnet  E09000003 1995-01-01  93284.5\n",
              "3              Bexley  E09000004 1995-01-01  64958.1\n",
              "4               Brent  E09000005 1995-01-01  71306.6"
            ]
          },
          "metadata": {
            "tags": []
          },
          "execution_count": 13
        }
      ]
    },
    {
      "cell_type": "markdown",
      "metadata": {
        "id": "7kIsgAo7o3mf",
        "colab_type": "text"
      },
      "source": [
        "Remember to make sure your column data types are all correct. Average prices, for example, should be floating point numbers... "
      ]
    },
    {
      "cell_type": "code",
      "metadata": {
        "id": "ZcR4IHbcpOaq",
        "colab_type": "code",
        "colab": {
          "base_uri": "https://localhost:8080/",
          "height": 101
        },
        "outputId": "06c5f32f-191c-444a-cedb-8e08833b18b5"
      },
      "source": [
        "properties.dtypes"
      ],
      "execution_count": 14,
      "outputs": [
        {
          "output_type": "execute_result",
          "data": {
            "text/plain": [
              "London Borough            object\n",
              "ID                        object\n",
              "variable          datetime64[ns]\n",
              "value                     object\n",
              "dtype: object"
            ]
          },
          "metadata": {
            "tags": []
          },
          "execution_count": 14
        }
      ]
    },
    {
      "cell_type": "code",
      "metadata": {
        "id": "_M7Vajik4DOY",
        "colab_type": "code",
        "colab": {}
      },
      "source": [
        "properties['value'] = properties['value'].astype(float).round(2)"
      ],
      "execution_count": 15,
      "outputs": []
    },
    {
      "cell_type": "code",
      "metadata": {
        "id": "X9RvuLm34PlA",
        "colab_type": "code",
        "colab": {
          "base_uri": "https://localhost:8080/",
          "height": 195
        },
        "outputId": "3d31e5da-5f01-450d-b93e-2eb933f00149"
      },
      "source": [
        "properties.head()"
      ],
      "execution_count": 16,
      "outputs": [
        {
          "output_type": "execute_result",
          "data": {
            "text/html": [
              "<div>\n",
              "<style scoped>\n",
              "    .dataframe tbody tr th:only-of-type {\n",
              "        vertical-align: middle;\n",
              "    }\n",
              "\n",
              "    .dataframe tbody tr th {\n",
              "        vertical-align: top;\n",
              "    }\n",
              "\n",
              "    .dataframe thead th {\n",
              "        text-align: right;\n",
              "    }\n",
              "</style>\n",
              "<table border=\"1\" class=\"dataframe\">\n",
              "  <thead>\n",
              "    <tr style=\"text-align: right;\">\n",
              "      <th></th>\n",
              "      <th>London Borough</th>\n",
              "      <th>ID</th>\n",
              "      <th>variable</th>\n",
              "      <th>value</th>\n",
              "    </tr>\n",
              "  </thead>\n",
              "  <tbody>\n",
              "    <tr>\n",
              "      <th>0</th>\n",
              "      <td>City of London</td>\n",
              "      <td>E09000001</td>\n",
              "      <td>1995-01-01</td>\n",
              "      <td>91448.98</td>\n",
              "    </tr>\n",
              "    <tr>\n",
              "      <th>1</th>\n",
              "      <td>Barking &amp; Dagenham</td>\n",
              "      <td>E09000002</td>\n",
              "      <td>1995-01-01</td>\n",
              "      <td>50460.23</td>\n",
              "    </tr>\n",
              "    <tr>\n",
              "      <th>2</th>\n",
              "      <td>Barnet</td>\n",
              "      <td>E09000003</td>\n",
              "      <td>1995-01-01</td>\n",
              "      <td>93284.52</td>\n",
              "    </tr>\n",
              "    <tr>\n",
              "      <th>3</th>\n",
              "      <td>Bexley</td>\n",
              "      <td>E09000004</td>\n",
              "      <td>1995-01-01</td>\n",
              "      <td>64958.09</td>\n",
              "    </tr>\n",
              "    <tr>\n",
              "      <th>4</th>\n",
              "      <td>Brent</td>\n",
              "      <td>E09000005</td>\n",
              "      <td>1995-01-01</td>\n",
              "      <td>71306.57</td>\n",
              "    </tr>\n",
              "  </tbody>\n",
              "</table>\n",
              "</div>"
            ],
            "text/plain": [
              "       London Borough         ID   variable     value\n",
              "0      City of London  E09000001 1995-01-01  91448.98\n",
              "1  Barking & Dagenham  E09000002 1995-01-01  50460.23\n",
              "2              Barnet  E09000003 1995-01-01  93284.52\n",
              "3              Bexley  E09000004 1995-01-01  64958.09\n",
              "4               Brent  E09000005 1995-01-01  71306.57"
            ]
          },
          "metadata": {
            "tags": []
          },
          "execution_count": 16
        }
      ]
    },
    {
      "cell_type": "markdown",
      "metadata": {
        "id": "knLUXHLypOtw",
        "colab_type": "text"
      },
      "source": [
        "**2.5. Cleaning the data (part 3)**\n",
        "\n",
        "Do we have an equal number of observations in the ID, Average Price, Month, and London Borough columns? Remember that there are only 32 London Boroughs. How many entries do you have in that column? \n",
        "\n",
        "Check out the contents of the London Borough column, and if you find null values, get rid of them however you see fit. "
      ]
    },
    {
      "cell_type": "code",
      "metadata": {
        "id": "z3yNnJoanJq7",
        "colab_type": "code",
        "colab": {}
      },
      "source": [
        "properties = properties[~properties['London Borough'].isin(['City of London', 'Inner London', 'Outer London', 'NORTH EAST', 'NORTH WEST', 'YORKS & THE HUMBER', 'EAST MIDLANDS', 'WEST MIDLANDS', 'EAST OF ENGLAND', 'LONDON', 'SOUTH EAST', 'SOUTH WEST', 'England'])]"
      ],
      "execution_count": 17,
      "outputs": []
    },
    {
      "cell_type": "code",
      "metadata": {
        "id": "t1Py2OZDjY3w",
        "colab_type": "code",
        "colab": {}
      },
      "source": [
        "properties.columns = ['London Borough', 'ID', 'Month', 'Average Price']"
      ],
      "execution_count": 18,
      "outputs": []
    },
    {
      "cell_type": "code",
      "metadata": {
        "id": "Ic4ZZgDKRHDU",
        "colab_type": "code",
        "colab": {}
      },
      "source": [
        "properties = properties[~properties['London Borough'].str.contains('Unnamed')]"
      ],
      "execution_count": 19,
      "outputs": []
    },
    {
      "cell_type": "code",
      "metadata": {
        "id": "hZYY1ge_g-qE",
        "colab_type": "code",
        "colab": {
          "base_uri": "https://localhost:8080/",
          "height": 34
        },
        "outputId": "4c2dc392-73aa-4ba4-fc3d-eaddcb7ec81c"
      },
      "source": [
        "properties.isnull().values.any()"
      ],
      "execution_count": 20,
      "outputs": [
        {
          "output_type": "execute_result",
          "data": {
            "text/plain": [
              "False"
            ]
          },
          "metadata": {
            "tags": []
          },
          "execution_count": 20
        }
      ]
    },
    {
      "cell_type": "code",
      "metadata": {
        "id": "9m6REFuxhBCA",
        "colab_type": "code",
        "colab": {}
      },
      "source": [
        "properties = properties.sort_values(['London Borough', 'Month'], ascending=(True, True))"
      ],
      "execution_count": 21,
      "outputs": []
    },
    {
      "cell_type": "code",
      "metadata": {
        "id": "eCvBIEZetAp0",
        "colab_type": "code",
        "colab": {}
      },
      "source": [
        "properties = properties.reset_index()"
      ],
      "execution_count": 22,
      "outputs": []
    },
    {
      "cell_type": "code",
      "metadata": {
        "id": "74t4es_NPtxt",
        "colab_type": "code",
        "colab": {}
      },
      "source": [
        "properties = properties.drop(properties.columns[0], axis=1)"
      ],
      "execution_count": 23,
      "outputs": []
    },
    {
      "cell_type": "code",
      "metadata": {
        "id": "CBy27iIPR5b9",
        "colab_type": "code",
        "colab": {
          "base_uri": "https://localhost:8080/",
          "height": 195
        },
        "outputId": "45904bc9-6c2b-465c-f191-4f969c3bb9c2"
      },
      "source": [
        "properties.head()"
      ],
      "execution_count": 24,
      "outputs": [
        {
          "output_type": "execute_result",
          "data": {
            "text/html": [
              "<div>\n",
              "<style scoped>\n",
              "    .dataframe tbody tr th:only-of-type {\n",
              "        vertical-align: middle;\n",
              "    }\n",
              "\n",
              "    .dataframe tbody tr th {\n",
              "        vertical-align: top;\n",
              "    }\n",
              "\n",
              "    .dataframe thead th {\n",
              "        text-align: right;\n",
              "    }\n",
              "</style>\n",
              "<table border=\"1\" class=\"dataframe\">\n",
              "  <thead>\n",
              "    <tr style=\"text-align: right;\">\n",
              "      <th></th>\n",
              "      <th>London Borough</th>\n",
              "      <th>ID</th>\n",
              "      <th>Month</th>\n",
              "      <th>Average Price</th>\n",
              "    </tr>\n",
              "  </thead>\n",
              "  <tbody>\n",
              "    <tr>\n",
              "      <th>0</th>\n",
              "      <td>Barking &amp; Dagenham</td>\n",
              "      <td>E09000002</td>\n",
              "      <td>1995-01-01</td>\n",
              "      <td>50460.23</td>\n",
              "    </tr>\n",
              "    <tr>\n",
              "      <th>1</th>\n",
              "      <td>Barking &amp; Dagenham</td>\n",
              "      <td>E09000002</td>\n",
              "      <td>1995-02-01</td>\n",
              "      <td>51085.78</td>\n",
              "    </tr>\n",
              "    <tr>\n",
              "      <th>2</th>\n",
              "      <td>Barking &amp; Dagenham</td>\n",
              "      <td>E09000002</td>\n",
              "      <td>1995-03-01</td>\n",
              "      <td>51268.97</td>\n",
              "    </tr>\n",
              "    <tr>\n",
              "      <th>3</th>\n",
              "      <td>Barking &amp; Dagenham</td>\n",
              "      <td>E09000002</td>\n",
              "      <td>1995-04-01</td>\n",
              "      <td>53133.51</td>\n",
              "    </tr>\n",
              "    <tr>\n",
              "      <th>4</th>\n",
              "      <td>Barking &amp; Dagenham</td>\n",
              "      <td>E09000002</td>\n",
              "      <td>1995-05-01</td>\n",
              "      <td>53042.25</td>\n",
              "    </tr>\n",
              "  </tbody>\n",
              "</table>\n",
              "</div>"
            ],
            "text/plain": [
              "       London Borough         ID      Month  Average Price\n",
              "0  Barking & Dagenham  E09000002 1995-01-01       50460.23\n",
              "1  Barking & Dagenham  E09000002 1995-02-01       51085.78\n",
              "2  Barking & Dagenham  E09000002 1995-03-01       51268.97\n",
              "3  Barking & Dagenham  E09000002 1995-04-01       53133.51\n",
              "4  Barking & Dagenham  E09000002 1995-05-01       53042.25"
            ]
          },
          "metadata": {
            "tags": []
          },
          "execution_count": 24
        }
      ]
    },
    {
      "cell_type": "markdown",
      "metadata": {
        "id": "PGEx6mJsp6dG",
        "colab_type": "text"
      },
      "source": [
        "**2.6. Visualizing the data**\n",
        "\n",
        "To visualize the data, why not subset on a particular London Borough? Maybe do a line plot of Month against Average Price?"
      ]
    },
    {
      "cell_type": "code",
      "metadata": {
        "id": "N6kwvMfdWh4q",
        "colab_type": "code",
        "colab": {}
      },
      "source": [
        "harrow = properties[properties['London Borough']=='Harrow']"
      ],
      "execution_count": 28,
      "outputs": []
    },
    {
      "cell_type": "code",
      "metadata": {
        "id": "s_lyBt8KmzZj",
        "colab_type": "code",
        "colab": {
          "base_uri": "https://localhost:8080/",
          "height": 312
        },
        "outputId": "44b3e988-b5f8-418d-ad28-991d3ece5c75"
      },
      "source": [
        "harrow.plot(x='Month', y='Average Price', color='g', kind='line')\n",
        "plt.ylabel('Average Price')\n",
        "plt.legend(['Harrow'])\n",
        "plt.title('Average Housing Price of Harrow')"
      ],
      "execution_count": 69,
      "outputs": [
        {
          "output_type": "execute_result",
          "data": {
            "text/plain": [
              "Text(0.5, 1.0, 'Average Housing Price of Harrow')"
            ]
          },
          "metadata": {
            "tags": []
          },
          "execution_count": 69
        },
        {
          "output_type": "display_data",
          "data": {
            "image/png": "[encoded data removed]",
            "text/plain": [
              "<Figure size 432x288 with 1 Axes>"
            ]
          },
          "metadata": {
            "tags": [],
            "needs_background": "light"
          }
        }
      ]
    },
    {
      "cell_type": "code",
      "metadata": {
        "id": "PhuKet5YWiZo",
        "colab_type": "code",
        "colab": {}
      },
      "source": [
        "hounslow = properties[properties['London Borough']=='Hounslow']"
      ],
      "execution_count": 35,
      "outputs": []
    },
    {
      "cell_type": "code",
      "metadata": {
        "id": "ppBYB50AoEBf",
        "colab_type": "code",
        "colab": {
          "base_uri": "https://localhost:8080/",
          "height": 312
        },
        "outputId": "15945eb0-a41e-49bc-a1f0-a61118982217"
      },
      "source": [
        "hounslow.plot(x='Month', y='Average Price', color='c', kind='line')\n",
        "plt.ylabel('Average Price')\n",
        "plt.legend(['Hounslow'])\n",
        "plt.title('Average Housing Price of Hounslow')"
      ],
      "execution_count": 70,
      "outputs": [
        {
          "output_type": "execute_result",
          "data": {
            "text/plain": [
              "Text(0.5, 1.0, 'Average Housing Price of Hounslow')"
            ]
          },
          "metadata": {
            "tags": []
          },
          "execution_count": 70
        },
        {
          "output_type": "display_data",
          "data": {
            "image/png": "[encoded data removed]",
            "text/plain": [
              "<Figure size 432x288 with 1 Axes>"
            ]
          },
          "metadata": {
            "tags": [],
            "needs_background": "light"
          }
        }
      ]
    },
    {
      "cell_type": "code",
      "metadata": {
        "id": "xVXw0zH0Whu0",
        "colab_type": "code",
        "colab": {}
      },
      "source": [
        "richimond_upon_thames = properties[properties['London Borough']=='Richmond upon Thames']"
      ],
      "execution_count": 37,
      "outputs": []
    },
    {
      "cell_type": "code",
      "metadata": {
        "id": "aCW9ZxeVpAYC",
        "colab_type": "code",
        "colab": {
          "base_uri": "https://localhost:8080/",
          "height": 312
        },
        "outputId": "2a203fee-b742-4aa2-828e-56f3d50a3618"
      },
      "source": [
        "richimond_upon_thames.plot(x='Month', y='Average Price', color='b', kind='line')\n",
        "plt.ylabel('Average Price')\n",
        "plt.legend(['Richimon upon Thames'])\n",
        "plt.title('Average Housing Price of Richimond upon Thames')"
      ],
      "execution_count": 72,
      "outputs": [
        {
          "output_type": "execute_result",
          "data": {
            "text/plain": [
              "Text(0.5, 1.0, 'Average Housing Price of Richimond upon Thames')"
            ]
          },
          "metadata": {
            "tags": []
          },
          "execution_count": 72
        },
        {
          "output_type": "display_data",
          "data": {
            "image/png": "[encoded data removed]",
            "text/plain": [
              "<Figure size 432x288 with 1 Axes>"
            ]
          },
          "metadata": {
            "tags": [],
            "needs_background": "light"
          }
        }
      ]
    },
    {
      "cell_type": "code",
      "metadata": {
        "id": "Gg_dldyO5_5q",
        "colab_type": "code",
        "colab": {
          "base_uri": "https://localhost:8080/",
          "height": 295
        },
        "outputId": "bf25e5a5-0eca-400a-c48f-d597192abef9"
      },
      "source": [
        "harrow_x = harrow['Month']\n",
        "harrow_y = harrow['Average Price']\n",
        "harrow_plot = plt.plot(harrow_x, harrow_y, color='g', label='Harrow')\n",
        "\n",
        "hounslow_x = hounslow['Month']\n",
        "hounslow_y = hounslow['Average Price']\n",
        "hounslow_plot = plt.plot(hounslow_x, hounslow_y, color='c', label='Houslow')\n",
        "\n",
        "richimond_upon_thames_x = richimond_upon_thames['Month']\n",
        "richimond_upon_thames_y = richimond_upon_thames['Average Price']\n",
        "richimond_upon_thames_plot = plt.plot(richimond_upon_thames_x, richimond_upon_thames_y, color='b', label='Richimond upon Thames')\n",
        "\n",
        "plt.xlabel('Month')\n",
        "plt.ylabel('Average Price')\n",
        "plt.legend()\n",
        "plt.title('Average Housing Price of the Three London Boroughs')\n",
        "plt.show()"
      ],
      "execution_count": 74,
      "outputs": [
        {
          "output_type": "display_data",
          "data": {
            "image/png": "[encoded data removed]",
            "text/plain": [
              "<Figure size 432x288 with 1 Axes>"
            ]
          },
          "metadata": {
            "tags": [],
            "needs_background": "light"
          }
        }
      ]
    },
    {
      "cell_type": "markdown",
      "metadata": {
        "id": "aWTPqSJeqHnC",
        "colab_type": "text"
      },
      "source": [
        "To limit the number of data points you have, you might want to extract the year from every month value your *Month* column. \n",
        "\n",
        "To this end, you *could* apply a ***lambda function***. Your logic could work as follows:\n",
        "1. look through the `Month` column\n",
        "2. extract the year from each individual value in that column \n",
        "3. store that corresponding year as separate column. \n",
        "\n",
        "Whether you go ahead with this is up to you. Just so long as you answer our initial brief: which boroughs of London have seen the greatest house price increase, on average, over the past two decades? "
      ]
    },
    {
      "cell_type": "code",
      "metadata": {
        "id": "e0DF92cyqnu8",
        "colab_type": "code",
        "colab": {}
      },
      "source": [
        "properties['Year']= properties['Month'].apply(lambda x:x.strftime('%Y'))"
      ],
      "execution_count": 39,
      "outputs": []
    },
    {
      "cell_type": "code",
      "metadata": {
        "id": "gekLJORYhMkb",
        "colab_type": "code",
        "colab": {}
      },
      "source": [
        "properties = properties[['London Borough', 'ID', 'Year', 'Month', 'Average Price']]"
      ],
      "execution_count": 40,
      "outputs": []
    },
    {
      "cell_type": "code",
      "metadata": {
        "id": "VNniyQM6kNXQ",
        "colab_type": "code",
        "colab": {
          "base_uri": "https://localhost:8080/",
          "height": 195
        },
        "outputId": "0e4863be-616e-4c75-be71-d6763c4163c6"
      },
      "source": [
        "properties.head()"
      ],
      "execution_count": 41,
      "outputs": [
        {
          "output_type": "execute_result",
          "data": {
            "text/html": [
              "<div>\n",
              "<style scoped>\n",
              "    .dataframe tbody tr th:only-of-type {\n",
              "        vertical-align: middle;\n",
              "    }\n",
              "\n",
              "    .dataframe tbody tr th {\n",
              "        vertical-align: top;\n",
              "    }\n",
              "\n",
              "    .dataframe thead th {\n",
              "        text-align: right;\n",
              "    }\n",
              "</style>\n",
              "<table border=\"1\" class=\"dataframe\">\n",
              "  <thead>\n",
              "    <tr style=\"text-align: right;\">\n",
              "      <th></th>\n",
              "      <th>London Borough</th>\n",
              "      <th>ID</th>\n",
              "      <th>Year</th>\n",
              "      <th>Month</th>\n",
              "      <th>Average Price</th>\n",
              "    </tr>\n",
              "  </thead>\n",
              "  <tbody>\n",
              "    <tr>\n",
              "      <th>0</th>\n",
              "      <td>Barking &amp; Dagenham</td>\n",
              "      <td>E09000002</td>\n",
              "      <td>1995</td>\n",
              "      <td>1995-01-01</td>\n",
              "      <td>50460.23</td>\n",
              "    </tr>\n",
              "    <tr>\n",
              "      <th>1</th>\n",
              "      <td>Barking &amp; Dagenham</td>\n",
              "      <td>E09000002</td>\n",
              "      <td>1995</td>\n",
              "      <td>1995-02-01</td>\n",
              "      <td>51085.78</td>\n",
              "    </tr>\n",
              "    <tr>\n",
              "      <th>2</th>\n",
              "      <td>Barking &amp; Dagenham</td>\n",
              "      <td>E09000002</td>\n",
              "      <td>1995</td>\n",
              "      <td>1995-03-01</td>\n",
              "      <td>51268.97</td>\n",
              "    </tr>\n",
              "    <tr>\n",
              "      <th>3</th>\n",
              "      <td>Barking &amp; Dagenham</td>\n",
              "      <td>E09000002</td>\n",
              "      <td>1995</td>\n",
              "      <td>1995-04-01</td>\n",
              "      <td>53133.51</td>\n",
              "    </tr>\n",
              "    <tr>\n",
              "      <th>4</th>\n",
              "      <td>Barking &amp; Dagenham</td>\n",
              "      <td>E09000002</td>\n",
              "      <td>1995</td>\n",
              "      <td>1995-05-01</td>\n",
              "      <td>53042.25</td>\n",
              "    </tr>\n",
              "  </tbody>\n",
              "</table>\n",
              "</div>"
            ],
            "text/plain": [
              "       London Borough         ID  Year      Month  Average Price\n",
              "0  Barking & Dagenham  E09000002  1995 1995-01-01       50460.23\n",
              "1  Barking & Dagenham  E09000002  1995 1995-02-01       51085.78\n",
              "2  Barking & Dagenham  E09000002  1995 1995-03-01       51268.97\n",
              "3  Barking & Dagenham  E09000002  1995 1995-04-01       53133.51\n",
              "4  Barking & Dagenham  E09000002  1995 1995-05-01       53042.25"
            ]
          },
          "metadata": {
            "tags": []
          },
          "execution_count": 41
        }
      ]
    },
    {
      "cell_type": "markdown",
      "metadata": {
        "id": "2knuTxAEqoJ4",
        "colab_type": "text"
      },
      "source": [
        "**3. Modeling**\n",
        "\n",
        "Consider creating a function that will calculate a ratio of house prices, comparing the price of a house in 2018 to the price in 1998.\n",
        "\n",
        "Consider calling this function create_price_ratio.\n",
        "\n",
        "You'd want this function to:\n",
        "1. Take a filter of dfg, specifically where this filter constrains the London_Borough, as an argument. For example, one admissible argument should be: dfg[dfg['London_Borough']=='Camden'].\n",
        "2. Get the Average Price for that Borough, for the years 1998 and 2018.\n",
        "4. Calculate the ratio of the Average Price for 1998 divided by the Average Price for 2018.\n",
        "5. Return that ratio.\n",
        "\n",
        "Once you've written this function, you ultimately want to use it to iterate through all the unique London_Boroughs and work out the ratio capturing the difference of house prices between 1998 and 2018.\n",
        "\n",
        "Bear in mind: you don't have to write a function like this if you don't want to. If you can solve the brief otherwise, then great! \n",
        "\n",
        "***Hint***: This section should test the skills you acquired in:\n",
        "- Python Data Science Toolbox - Part One, all modules"
      ]
    },
    {
      "cell_type": "code",
      "metadata": {
        "id": "aajHrdGW04yJ",
        "colab_type": "code",
        "colab": {}
      },
      "source": [
        "def create_price_ratio(borough):\n",
        "  \"\"\"price ratio between average house price of 1998 and 2018\"\"\"\n",
        "  annual_average = properties[properties['London Borough']==borough].groupby('Year').mean()\n",
        "  average_1998 = annual_average.at['1998', 'Average Price']\n",
        "  average_2018 = annual_average.at['2018', 'Average Price']\n",
        "  price_ratio = (average_1998 / average_2018).round(2)\n",
        "  return price_ratio"
      ],
      "execution_count": 42,
      "outputs": []
    },
    {
      "cell_type": "code",
      "metadata": {
        "id": "QyiivcBQEemK",
        "colab_type": "code",
        "colab": {}
      },
      "source": [
        "price_ratio_list = {}\n",
        "\n",
        "for borough in properties['London Borough'].unique():\n",
        "  price_ratio = {borough: create_price_ratio(borough)}\n",
        "  price_ratio_list.update(price_ratio)"
      ],
      "execution_count": 43,
      "outputs": []
    },
    {
      "cell_type": "code",
      "metadata": {
        "id": "maP-Qvc6Cc4q",
        "colab_type": "code",
        "colab": {}
      },
      "source": [
        "price_ratio_item_max_value = max(price_ratio_list.items(), key=lambda x: x[1])"
      ],
      "execution_count": 44,
      "outputs": []
    },
    {
      "cell_type": "code",
      "metadata": {
        "id": "VRcHSU0cQuqk",
        "colab_type": "code",
        "colab": {}
      },
      "source": [
        "boroughs_with_max_price_ratio = []\n",
        "for key, value in price_ratio_list.items():\n",
        "  if value==price_ratio_item_max_value[1]:\n",
        "    boroughs_with_max_price_ratio.append(key)"
      ],
      "execution_count": 45,
      "outputs": []
    },
    {
      "cell_type": "code",
      "metadata": {
        "id": "omCCEuFeOM2C",
        "colab_type": "code",
        "colab": {
          "base_uri": "https://localhost:8080/",
          "height": 50
        },
        "outputId": "e7aaefb1-e39c-4486-b108-2e1b062662e0"
      },
      "source": [
        "print('London boroughs with max house price ratio: ', boroughs_with_max_price_ratio)\n",
        "print('Max house price ratio: ', price_ratio_item_max_value[1])"
      ],
      "execution_count": 46,
      "outputs": [
        {
          "output_type": "stream",
          "text": [
            "London boroughs with max house price ratio:  ['Harrow', 'Hounslow', 'Richmond upon Thames']\n",
            "Max house price ratio:  0.25\n"
          ],
          "name": "stdout"
        }
      ]
    },
    {
      "cell_type": "code",
      "metadata": {
        "id": "ISBilW3cMObQ",
        "colab_type": "code",
        "colab": {
          "base_uri": "https://localhost:8080/",
          "height": 34
        },
        "outputId": "ce293ac6-4593-4380-b803-7be3ad8c5bfd"
      },
      "source": [
        "properties['Average Price'].idxmax()"
      ],
      "execution_count": 79,
      "outputs": [
        {
          "output_type": "execute_result",
          "data": {
            "text/plain": [
              "5766"
            ]
          },
          "metadata": {
            "tags": []
          },
          "execution_count": 79
        }
      ]
    },
    {
      "cell_type": "code",
      "metadata": {
        "id": "eOmXy4k5NhlU",
        "colab_type": "code",
        "colab": {
          "base_uri": "https://localhost:8080/",
          "height": 118
        },
        "outputId": "7cc77032-0806-4b9b-9d8d-3a8effbd1b8a"
      },
      "source": [
        "properties.iloc[5766, :]"
      ],
      "execution_count": 80,
      "outputs": [
        {
          "output_type": "execute_result",
          "data": {
            "text/plain": [
              "London Borough    Kensington & Chelsea\n",
              "ID                           E09000020\n",
              "Year                              2018\n",
              "Month              2018-01-01 00:00:00\n",
              "Average Price              1.46338e+06\n",
              "Name: 5766, dtype: object"
            ]
          },
          "metadata": {
            "tags": []
          },
          "execution_count": 80
        }
      ]
    },
    {
      "cell_type": "markdown",
      "metadata": {
        "id": "NzYUI7FxJpgv",
        "colab_type": "text"
      },
      "source": [
        "### 4. Conclusion\n",
        "What can you conclude? Type out your conclusion below. \n",
        "\n",
        "Look back at your notebook. Think about how you might summarize what you have done, and prepare a quick presentation on it to your mentor at your next meeting. \n",
        "\n",
        "We hope you enjoyed this practical project. It should have consolidated your data hygiene and pandas skills by looking at a real-world problem involving just the kind of dataset you might encounter as a budding data scientist. Congratulations, and looking forward to seeing you at the next step in the course! "
      ]
    }
  ]
}